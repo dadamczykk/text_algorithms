{
 "cells": [
  {
   "attachments": {},
   "cell_type": "markdown",
   "metadata": {},
   "source": [
    "# Dominik Adamczyk\n",
    "## Laboratorium 2 - rozwiązania "
   ]
  },
  {
   "attachments": {},
   "cell_type": "markdown",
   "metadata": {},
   "source": [
    "#### 1. Implementacja statycznego algorytmu Huffmana"
   ]
  },
  {
   "cell_type": "code",
   "execution_count": 6,
   "metadata": {},
   "outputs": [
    {
     "data": {
      "text/plain": [
       "'ala ma kota'"
      ]
     },
     "execution_count": 6,
     "metadata": {},
     "output_type": "execute_result"
    }
   ],
   "source": [
    "from collections import Counter\n",
    "from heapq import heapify, heappop, heappush\n",
    "\n",
    "class Static_node:\n",
    "    def __init__(self, symbol, weight, left=None, right=None):\n",
    "        self.symbol = symbol\n",
    "        self.weight = weight\n",
    "        self.left = left\n",
    "        self.right = right\n",
    "    \n",
    "    def __lt__(self, other):\n",
    "        return self.weight < other.weight\n",
    "\n",
    "def huffman_encoding(data):\n",
    "    freq = Counter(data)\n",
    "    heap = [Static_node(symbol, weight) for symbol, weight in freq.items()]\n",
    "    heapify(heap)\n",
    "    \n",
    "    while len(heap) > 1:\n",
    "        node1 = heappop(heap)\n",
    "        node2 = heappop(heap)\n",
    "        merged = Static_node(None, node1.weight + node2.weight, node1, node2)\n",
    "        heappush(heap, merged)\n",
    "    \n",
    "    codes = {}\n",
    "    def traverse(node, code=''):\n",
    "        if node.symbol is not None:\n",
    "            codes[node.symbol] = code\n",
    "        else:\n",
    "            traverse(node.left, code + '0')\n",
    "            traverse(node.right, code + '1')\n",
    "    traverse(heap[0])\n",
    "    \n",
    "    encoded_data = ''.join(codes[symbol] for symbol in data)\n",
    "    \n",
    "    return encoded_data, codes\n",
    "\n",
    "def huffman_decoding(encoded_data, codes):\n",
    "    reverse_codes = {code: symbol for symbol, code in codes.items()}\n",
    "    \n",
    "    decoded_data = ''\n",
    "    code = ''\n",
    "    for bit in encoded_data:\n",
    "        code += bit\n",
    "        if code in reverse_codes:\n",
    "            symbol = reverse_codes[code]\n",
    "            decoded_data += symbol\n",
    "            code = ''\n",
    "    \n",
    "    return decoded_data\n",
    "\n",
    "\n",
    "a, b = huffman_encoding(\"ala ma kota\")\n",
    "huffman_decoding(a, b)"
   ]
  }
 ],
 "metadata": {
  "kernelspec": {
   "display_name": "base",
   "language": "python",
   "name": "python3"
  },
  "language_info": {
   "codemirror_mode": {
    "name": "ipython",
    "version": 3
   },
   "file_extension": ".py",
   "mimetype": "text/x-python",
   "name": "python",
   "nbconvert_exporter": "python",
   "pygments_lexer": "ipython3",
   "version": "3.9.13"
  },
  "orig_nbformat": 4
 },
 "nbformat": 4,
 "nbformat_minor": 2
}
