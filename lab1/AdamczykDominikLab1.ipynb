{
 "cells": [
  {
   "attachments": {},
   "cell_type": "markdown",
   "metadata": {},
   "source": [
    "# Dominik Adamczyk\n",
    "## Laboratorium 1 - rozwiązania "
   ]
  },
  {
   "attachments": {},
   "cell_type": "markdown",
   "metadata": {},
   "source": [
    "#### 1. Zaimplementuj w Pythonie algorytmy wyszukiwania wzorców"
   ]
  },
  {
   "cell_type": "markdown",
   "metadata": {},
   "source": [
    "##### Naiwny"
   ]
  },
  {
   "cell_type": "code",
   "execution_count": 61,
   "metadata": {},
   "outputs": [],
   "source": [
    "def naive_string_matching(text, pattern):\n",
    "    results = []\n",
    "    for s in range(len(text) - len(pattern) + 1):\n",
    "        if text[s:s+len(pattern)] == pattern:\n",
    "            results.append(s)\n",
    "    return results"
   ]
  },
  {
   "attachments": {},
   "cell_type": "markdown",
   "metadata": {},
   "source": [
    "### Algorytm KMP"
   ]
  },
  {
   "cell_type": "code",
   "execution_count": 62,
   "metadata": {},
   "outputs": [],
   "source": [
    "def prefix_function(pattern):\n",
    "    pi = [0]\n",
    "    k = 0\n",
    "    for q in range(1, len(pattern)):\n",
    "        while (k > 0 and pattern[k] != pattern[q]):\n",
    "            k = pi[k-1]\n",
    "        if pattern[k] == pattern[q]:\n",
    "            k = k+1\n",
    "        pi.append(k)\n",
    "    return pi\n",
    "\n",
    "def kmp_string_matching(text, pattern, pi):\n",
    "    q = 0\n",
    "    results = []\n",
    "    for i in range(0, len(text)):\n",
    "        while q > 0 and pattern[q] != text[i]:\n",
    "            q = pi[q-1]\n",
    "        if pattern[q] == text[i]:\n",
    "            q = q + 1\n",
    "        if q == len(pattern):\n",
    "            results.append(i - q + 1)\n",
    "            q = pi[q-1]\n",
    "    return results"
   ]
  },
  {
   "attachments": {},
   "cell_type": "markdown",
   "metadata": {},
   "source": [
    "#### Automat skończony\n"
   ]
  },
  {
   "cell_type": "code",
   "execution_count": 63,
   "metadata": {},
   "outputs": [],
   "source": [
    "def transition_table(pattern, alphabet):\n",
    "    result = []\n",
    "    for q in range(0, len(pattern) + 1):\n",
    "        # print(q)\n",
    "        result.append({})\n",
    "        for a in set(alphabet):\n",
    "            k = min(len(pattern) + 1, q + 2)\n",
    "            while True:\n",
    "                k = k - 1\n",
    "                if (k == 0 or pattern[:k] == (pattern[:q] + a)[-k:]):\n",
    "                    break\n",
    "            result[q][a] = k\n",
    "    return result\n",
    "\n",
    "def fa_string_matching(text, delta):\n",
    "    q = 0\n",
    "    results = []\n",
    "    length = len(delta) - 1\n",
    "    for i in range(0, len(text)):\n",
    "        q = delta[q][text[i]]\n",
    "        if q == length:\n",
    "            results.append(i - q + 1)\n",
    "    return results"
   ]
  },
  {
   "attachments": {},
   "cell_type": "markdown",
   "metadata": {},
   "source": [
    "#### 2. Zaimplementuj testy porównujące szybkość działania wyżej wymienionych algorytmów, z rozbiciem na czasu pre-processingu oraz czas wyszukiwania wzorca w tekście"
   ]
  },
  {
   "cell_type": "code",
   "execution_count": 64,
   "metadata": {},
   "outputs": [],
   "source": [
    "from time import time\n",
    "import pandas as pd\n",
    "\n",
    "def test_naive(text, pattern):\n",
    "    t = time()\n",
    "    naive_string_matching(text, pattern)\n",
    "    return 0, time() - t\n",
    "\n",
    "def test_kmp(text, pattern):\n",
    "    t = time()\n",
    "    pf = prefix_function(pattern)\n",
    "    preprocess_time = time() - t\n",
    "    t = time()\n",
    "    kmp_string_matching(text, pattern, pf)\n",
    "    return preprocess_time, time() - t\n",
    "\n",
    "def test_fa(text, pattern):\n",
    "    t = time()\n",
    "    tt = transition_table(pattern, text)\n",
    "    preprocess_time = time() - t\n",
    "    t = time()\n",
    "    fa_string_matching(text, tt)\n",
    "    return preprocess_time, time() - t\n",
    "\n",
    "def test_all(text, pattern, n):\n",
    "    df = pd.DataFrame({\"Algorithm\": [], \"Preprocess_time\" : [],\n",
    "                    \"Search_time\" : [], \"Full_time\" : []})\n",
    "    for i in range(n):\n",
    "        naive_pre, naive_sear = test_naive(text, pattern)\n",
    "        kmp_pre, kmp_sear = test_kmp(text, pattern)\n",
    "        fa_pre, fa_sear = test_fa(text, pattern)\n",
    "        new_rows = pd.DataFrame({\"Algorithm\": [\"Naive\", \"KMP\", \"Finite_automata\"],\n",
    "                              \"Preprocess_time\" : [naive_pre, kmp_pre, fa_pre],\n",
    "                              \"Search_time\" : [naive_sear, kmp_sear, fa_sear],\n",
    "                              \"Full_time\" : [naive_pre+naive_sear, kmp_pre+kmp_sear, fa_pre+fa_sear]})\n",
    "        df = pd.concat([df, new_rows], ignore_index=True)\n",
    "    return df\n",
    "\n",
    "def check_ans(text, pattern):\n",
    "    return fa_string_matching(text, transition_table(pattern, text)) == \\\n",
    "        naive_string_matching(text, pattern) == kmp_string_matching(text, pattern, prefix_function(pattern))"
   ]
  },
  {
   "cell_type": "code",
   "execution_count": 65,
   "metadata": {},
   "outputs": [],
   "source": [
    "import random\n",
    "import string\n",
    "def generate_random_string(l):\n",
    "    return ''.join(random.choice(string.ascii_letters\n",
    "                                 + string.digits) for _ in range(l))"
   ]
  },
  {
   "attachments": {},
   "cell_type": "markdown",
   "metadata": {},
   "source": [
    "Test 1."
   ]
  },
  {
   "cell_type": "code",
   "execution_count": 66,
   "metadata": {},
   "outputs": [],
   "source": [
    "text_r1 = generate_random_string(10000000)\n",
    "pattern_r1 = generate_random_string(3)"
   ]
  },
  {
   "cell_type": "code",
   "execution_count": 67,
   "metadata": {},
   "outputs": [
    {
     "name": "stdout",
     "output_type": "stream",
     "text": [
      "Same results: True\n"
     ]
    }
   ],
   "source": [
    "print(f'Same results: {check_ans(text_r1, pattern_r1)}')\n",
    "result_r1 = test_all(text_r1, pattern_r1, 10)"
   ]
  },
  {
   "cell_type": "code",
   "execution_count": 68,
   "metadata": {},
   "outputs": [
    {
     "data": {
      "text/html": [
       "<div>\n",
       "<style scoped>\n",
       "    .dataframe tbody tr th:only-of-type {\n",
       "        vertical-align: middle;\n",
       "    }\n",
       "\n",
       "    .dataframe tbody tr th {\n",
       "        vertical-align: top;\n",
       "    }\n",
       "\n",
       "    .dataframe thead tr th {\n",
       "        text-align: left;\n",
       "    }\n",
       "\n",
       "    .dataframe thead tr:last-of-type th {\n",
       "        text-align: right;\n",
       "    }\n",
       "</style>\n",
       "<table border=\"1\" class=\"dataframe\">\n",
       "  <thead>\n",
       "    <tr>\n",
       "      <th></th>\n",
       "      <th colspan=\"3\" halign=\"left\">Preprocess_time</th>\n",
       "      <th colspan=\"3\" halign=\"left\">Search_time</th>\n",
       "      <th colspan=\"3\" halign=\"left\">Full_time</th>\n",
       "    </tr>\n",
       "    <tr>\n",
       "      <th></th>\n",
       "      <th>mean</th>\n",
       "      <th>min</th>\n",
       "      <th>max</th>\n",
       "      <th>mean</th>\n",
       "      <th>min</th>\n",
       "      <th>max</th>\n",
       "      <th>mean</th>\n",
       "      <th>min</th>\n",
       "      <th>max</th>\n",
       "    </tr>\n",
       "    <tr>\n",
       "      <th>Algorithm</th>\n",
       "      <th></th>\n",
       "      <th></th>\n",
       "      <th></th>\n",
       "      <th></th>\n",
       "      <th></th>\n",
       "      <th></th>\n",
       "      <th></th>\n",
       "      <th></th>\n",
       "      <th></th>\n",
       "    </tr>\n",
       "  </thead>\n",
       "  <tbody>\n",
       "    <tr>\n",
       "      <th>Finite_automata</th>\n",
       "      <td>0.641211</td>\n",
       "      <td>0.561859</td>\n",
       "      <td>0.71614</td>\n",
       "      <td>0.960271</td>\n",
       "      <td>0.816609</td>\n",
       "      <td>1.054761</td>\n",
       "      <td>1.601482</td>\n",
       "      <td>1.378468</td>\n",
       "      <td>1.770901</td>\n",
       "    </tr>\n",
       "    <tr>\n",
       "      <th>KMP</th>\n",
       "      <td>0.000000</td>\n",
       "      <td>0.000000</td>\n",
       "      <td>0.00000</td>\n",
       "      <td>1.573955</td>\n",
       "      <td>1.415862</td>\n",
       "      <td>1.886617</td>\n",
       "      <td>1.573955</td>\n",
       "      <td>1.415862</td>\n",
       "      <td>1.886617</td>\n",
       "    </tr>\n",
       "    <tr>\n",
       "      <th>Naive</th>\n",
       "      <td>0.000000</td>\n",
       "      <td>0.000000</td>\n",
       "      <td>0.00000</td>\n",
       "      <td>1.649673</td>\n",
       "      <td>1.560097</td>\n",
       "      <td>1.760026</td>\n",
       "      <td>1.649673</td>\n",
       "      <td>1.560097</td>\n",
       "      <td>1.760026</td>\n",
       "    </tr>\n",
       "  </tbody>\n",
       "</table>\n",
       "</div>"
      ],
      "text/plain": [
       "                Preprocess_time                    Search_time            \\\n",
       "                           mean       min      max        mean       min   \n",
       "Algorithm                                                                  \n",
       "Finite_automata        0.641211  0.561859  0.71614    0.960271  0.816609   \n",
       "KMP                    0.000000  0.000000  0.00000    1.573955  1.415862   \n",
       "Naive                  0.000000  0.000000  0.00000    1.649673  1.560097   \n",
       "\n",
       "                          Full_time                      \n",
       "                      max      mean       min       max  \n",
       "Algorithm                                                \n",
       "Finite_automata  1.054761  1.601482  1.378468  1.770901  \n",
       "KMP              1.886617  1.573955  1.415862  1.886617  \n",
       "Naive            1.760026  1.649673  1.560097  1.760026  "
      ]
     },
     "execution_count": 68,
     "metadata": {},
     "output_type": "execute_result"
    }
   ],
   "source": [
    "means = result_r1.groupby('Algorithm').agg({'Preprocess_time':['mean', 'min', 'max'],\n",
    "                                     'Search_time':['mean', 'min', 'max'],\n",
    "                                     'Full_time':['mean', 'min', 'max']})\n",
    "means\n"
   ]
  },
  {
   "attachments": {},
   "cell_type": "markdown",
   "metadata": {},
   "source": [
    "Test 2."
   ]
  },
  {
   "cell_type": "code",
   "execution_count": 69,
   "metadata": {},
   "outputs": [],
   "source": [
    "text_r2 = generate_random_string(10000000)\n",
    "pattern_r2 = generate_random_string(100)"
   ]
  },
  {
   "cell_type": "code",
   "execution_count": 70,
   "metadata": {},
   "outputs": [
    {
     "name": "stdout",
     "output_type": "stream",
     "text": [
      "Same results: True\n"
     ]
    }
   ],
   "source": [
    "print(f'Same results: {check_ans(text_r2, pattern_r2)}')\n",
    "result_r2 = test_all(text_r2, pattern_r2, 10)"
   ]
  },
  {
   "cell_type": "code",
   "execution_count": 71,
   "metadata": {},
   "outputs": [
    {
     "data": {
      "text/html": [
       "<div>\n",
       "<style scoped>\n",
       "    .dataframe tbody tr th:only-of-type {\n",
       "        vertical-align: middle;\n",
       "    }\n",
       "\n",
       "    .dataframe tbody tr th {\n",
       "        vertical-align: top;\n",
       "    }\n",
       "\n",
       "    .dataframe thead tr th {\n",
       "        text-align: left;\n",
       "    }\n",
       "\n",
       "    .dataframe thead tr:last-of-type th {\n",
       "        text-align: right;\n",
       "    }\n",
       "</style>\n",
       "<table border=\"1\" class=\"dataframe\">\n",
       "  <thead>\n",
       "    <tr>\n",
       "      <th></th>\n",
       "      <th colspan=\"3\" halign=\"left\">Preprocess_time</th>\n",
       "      <th colspan=\"3\" halign=\"left\">Search_time</th>\n",
       "      <th colspan=\"3\" halign=\"left\">Full_time</th>\n",
       "    </tr>\n",
       "    <tr>\n",
       "      <th></th>\n",
       "      <th>mean</th>\n",
       "      <th>min</th>\n",
       "      <th>max</th>\n",
       "      <th>mean</th>\n",
       "      <th>min</th>\n",
       "      <th>max</th>\n",
       "      <th>mean</th>\n",
       "      <th>min</th>\n",
       "      <th>max</th>\n",
       "    </tr>\n",
       "    <tr>\n",
       "      <th>Algorithm</th>\n",
       "      <th></th>\n",
       "      <th></th>\n",
       "      <th></th>\n",
       "      <th></th>\n",
       "      <th></th>\n",
       "      <th></th>\n",
       "      <th></th>\n",
       "      <th></th>\n",
       "      <th></th>\n",
       "    </tr>\n",
       "  </thead>\n",
       "  <tbody>\n",
       "    <tr>\n",
       "      <th>Finite_automata</th>\n",
       "      <td>18.050463</td>\n",
       "      <td>16.682831</td>\n",
       "      <td>18.988019</td>\n",
       "      <td>1.117830</td>\n",
       "      <td>0.971991</td>\n",
       "      <td>1.330893</td>\n",
       "      <td>19.168293</td>\n",
       "      <td>17.700536</td>\n",
       "      <td>20.199029</td>\n",
       "    </tr>\n",
       "    <tr>\n",
       "      <th>KMP</th>\n",
       "      <td>0.000000</td>\n",
       "      <td>0.000000</td>\n",
       "      <td>0.000000</td>\n",
       "      <td>1.725684</td>\n",
       "      <td>1.544949</td>\n",
       "      <td>1.958363</td>\n",
       "      <td>1.725684</td>\n",
       "      <td>1.544949</td>\n",
       "      <td>1.958363</td>\n",
       "    </tr>\n",
       "    <tr>\n",
       "      <th>Naive</th>\n",
       "      <td>0.000000</td>\n",
       "      <td>0.000000</td>\n",
       "      <td>0.000000</td>\n",
       "      <td>1.986432</td>\n",
       "      <td>1.666569</td>\n",
       "      <td>2.279327</td>\n",
       "      <td>1.986432</td>\n",
       "      <td>1.666569</td>\n",
       "      <td>2.279327</td>\n",
       "    </tr>\n",
       "  </tbody>\n",
       "</table>\n",
       "</div>"
      ],
      "text/plain": [
       "                Preprocess_time                       Search_time            \\\n",
       "                           mean        min        max        mean       min   \n",
       "Algorithm                                                                     \n",
       "Finite_automata       18.050463  16.682831  18.988019    1.117830  0.971991   \n",
       "KMP                    0.000000   0.000000   0.000000    1.725684  1.544949   \n",
       "Naive                  0.000000   0.000000   0.000000    1.986432  1.666569   \n",
       "\n",
       "                           Full_time                        \n",
       "                      max       mean        min        max  \n",
       "Algorithm                                                   \n",
       "Finite_automata  1.330893  19.168293  17.700536  20.199029  \n",
       "KMP              1.958363   1.725684   1.544949   1.958363  \n",
       "Naive            2.279327   1.986432   1.666569   2.279327  "
      ]
     },
     "execution_count": 71,
     "metadata": {},
     "output_type": "execute_result"
    }
   ],
   "source": [
    "means = result_r2.groupby('Algorithm').agg({'Preprocess_time':['mean', 'min', 'max'],\n",
    "                                     'Search_time':['mean', 'min', 'max'],\n",
    "                                     'Full_time':['mean', 'min', 'max']})\n",
    "means"
   ]
  },
  {
   "attachments": {},
   "cell_type": "markdown",
   "metadata": {},
   "source": [
    "Test 3."
   ]
  },
  {
   "cell_type": "code",
   "execution_count": 72,
   "metadata": {},
   "outputs": [],
   "source": [
    "text_r3 = ((('abcdefgh' + 'hgfedcba' ) * 2 + 'abcedefgd') * 3 + '12aedafga') * 10000\n",
    "pattern_r3 = 'defgh'"
   ]
  },
  {
   "cell_type": "code",
   "execution_count": 73,
   "metadata": {},
   "outputs": [
    {
     "name": "stdout",
     "output_type": "stream",
     "text": [
      "Same results: True\n"
     ]
    }
   ],
   "source": [
    "print(f'Same results: {check_ans(text_r3, pattern_r3)}')\n",
    "result_r3 = test_all(text_r3, pattern_r3, 30)"
   ]
  },
  {
   "cell_type": "code",
   "execution_count": 74,
   "metadata": {},
   "outputs": [
    {
     "data": {
      "text/html": [
       "<div>\n",
       "<style scoped>\n",
       "    .dataframe tbody tr th:only-of-type {\n",
       "        vertical-align: middle;\n",
       "    }\n",
       "\n",
       "    .dataframe tbody tr th {\n",
       "        vertical-align: top;\n",
       "    }\n",
       "\n",
       "    .dataframe thead tr th {\n",
       "        text-align: left;\n",
       "    }\n",
       "\n",
       "    .dataframe thead tr:last-of-type th {\n",
       "        text-align: right;\n",
       "    }\n",
       "</style>\n",
       "<table border=\"1\" class=\"dataframe\">\n",
       "  <thead>\n",
       "    <tr>\n",
       "      <th></th>\n",
       "      <th colspan=\"3\" halign=\"left\">Preprocess_time</th>\n",
       "      <th colspan=\"3\" halign=\"left\">Search_time</th>\n",
       "      <th colspan=\"3\" halign=\"left\">Full_time</th>\n",
       "    </tr>\n",
       "    <tr>\n",
       "      <th></th>\n",
       "      <th>mean</th>\n",
       "      <th>min</th>\n",
       "      <th>max</th>\n",
       "      <th>mean</th>\n",
       "      <th>min</th>\n",
       "      <th>max</th>\n",
       "      <th>mean</th>\n",
       "      <th>min</th>\n",
       "      <th>max</th>\n",
       "    </tr>\n",
       "    <tr>\n",
       "      <th>Algorithm</th>\n",
       "      <th></th>\n",
       "      <th></th>\n",
       "      <th></th>\n",
       "      <th></th>\n",
       "      <th></th>\n",
       "      <th></th>\n",
       "      <th></th>\n",
       "      <th></th>\n",
       "      <th></th>\n",
       "    </tr>\n",
       "  </thead>\n",
       "  <tbody>\n",
       "    <tr>\n",
       "      <th>Finite_automata</th>\n",
       "      <td>0.105471</td>\n",
       "      <td>0.055988</td>\n",
       "      <td>0.148165</td>\n",
       "      <td>0.164296</td>\n",
       "      <td>0.117072</td>\n",
       "      <td>0.233244</td>\n",
       "      <td>0.269768</td>\n",
       "      <td>0.216115</td>\n",
       "      <td>0.344591</td>\n",
       "    </tr>\n",
       "    <tr>\n",
       "      <th>KMP</th>\n",
       "      <td>0.000039</td>\n",
       "      <td>0.000000</td>\n",
       "      <td>0.001166</td>\n",
       "      <td>0.310159</td>\n",
       "      <td>0.221014</td>\n",
       "      <td>0.440359</td>\n",
       "      <td>0.310198</td>\n",
       "      <td>0.221014</td>\n",
       "      <td>0.440359</td>\n",
       "    </tr>\n",
       "    <tr>\n",
       "      <th>Naive</th>\n",
       "      <td>0.000000</td>\n",
       "      <td>0.000000</td>\n",
       "      <td>0.000000</td>\n",
       "      <td>0.273106</td>\n",
       "      <td>0.214942</td>\n",
       "      <td>0.355323</td>\n",
       "      <td>0.273106</td>\n",
       "      <td>0.214942</td>\n",
       "      <td>0.355323</td>\n",
       "    </tr>\n",
       "  </tbody>\n",
       "</table>\n",
       "</div>"
      ],
      "text/plain": [
       "                Preprocess_time                     Search_time            \\\n",
       "                           mean       min       max        mean       min   \n",
       "Algorithm                                                                   \n",
       "Finite_automata        0.105471  0.055988  0.148165    0.164296  0.117072   \n",
       "KMP                    0.000039  0.000000  0.001166    0.310159  0.221014   \n",
       "Naive                  0.000000  0.000000  0.000000    0.273106  0.214942   \n",
       "\n",
       "                          Full_time                      \n",
       "                      max      mean       min       max  \n",
       "Algorithm                                                \n",
       "Finite_automata  0.233244  0.269768  0.216115  0.344591  \n",
       "KMP              0.440359  0.310198  0.221014  0.440359  \n",
       "Naive            0.355323  0.273106  0.214942  0.355323  "
      ]
     },
     "execution_count": 74,
     "metadata": {},
     "output_type": "execute_result"
    }
   ],
   "source": [
    "means = result_r3.groupby('Algorithm').agg({'Preprocess_time':['mean', 'min', 'max'],\n",
    "                                     'Search_time':['mean', 'min', 'max'],\n",
    "                                     'Full_time':['mean', 'min', 'max']})\n",
    "means"
   ]
  },
  {
   "attachments": {},
   "cell_type": "markdown",
   "metadata": {},
   "source": [
    "Test 4."
   ]
  },
  {
   "cell_type": "code",
   "execution_count": 75,
   "metadata": {},
   "outputs": [],
   "source": [
    "text_r4 = generate_random_string(100000000)\n",
    "pattern_r4 = generate_random_string(1000)"
   ]
  },
  {
   "cell_type": "code",
   "execution_count": 76,
   "metadata": {},
   "outputs": [
    {
     "name": "stdout",
     "output_type": "stream",
     "text": [
      "Same results: True\n"
     ]
    }
   ],
   "source": [
    "print(f'Same results: {check_ans(text_r2, pattern_r2)}')\n",
    "result_r4 = test_all(text_r2, pattern_r2, 5)"
   ]
  },
  {
   "cell_type": "code",
   "execution_count": 77,
   "metadata": {},
   "outputs": [
    {
     "data": {
      "text/html": [
       "<div>\n",
       "<style scoped>\n",
       "    .dataframe tbody tr th:only-of-type {\n",
       "        vertical-align: middle;\n",
       "    }\n",
       "\n",
       "    .dataframe tbody tr th {\n",
       "        vertical-align: top;\n",
       "    }\n",
       "\n",
       "    .dataframe thead tr th {\n",
       "        text-align: left;\n",
       "    }\n",
       "\n",
       "    .dataframe thead tr:last-of-type th {\n",
       "        text-align: right;\n",
       "    }\n",
       "</style>\n",
       "<table border=\"1\" class=\"dataframe\">\n",
       "  <thead>\n",
       "    <tr>\n",
       "      <th></th>\n",
       "      <th colspan=\"3\" halign=\"left\">Preprocess_time</th>\n",
       "      <th colspan=\"3\" halign=\"left\">Search_time</th>\n",
       "      <th colspan=\"3\" halign=\"left\">Full_time</th>\n",
       "    </tr>\n",
       "    <tr>\n",
       "      <th></th>\n",
       "      <th>mean</th>\n",
       "      <th>min</th>\n",
       "      <th>max</th>\n",
       "      <th>mean</th>\n",
       "      <th>min</th>\n",
       "      <th>max</th>\n",
       "      <th>mean</th>\n",
       "      <th>min</th>\n",
       "      <th>max</th>\n",
       "    </tr>\n",
       "    <tr>\n",
       "      <th>Algorithm</th>\n",
       "      <th></th>\n",
       "      <th></th>\n",
       "      <th></th>\n",
       "      <th></th>\n",
       "      <th></th>\n",
       "      <th></th>\n",
       "      <th></th>\n",
       "      <th></th>\n",
       "      <th></th>\n",
       "    </tr>\n",
       "  </thead>\n",
       "  <tbody>\n",
       "    <tr>\n",
       "      <th>Finite_automata</th>\n",
       "      <td>15.093517</td>\n",
       "      <td>14.639752</td>\n",
       "      <td>15.88757</td>\n",
       "      <td>0.864505</td>\n",
       "      <td>0.743550</td>\n",
       "      <td>0.983538</td>\n",
       "      <td>15.958022</td>\n",
       "      <td>15.500485</td>\n",
       "      <td>16.871108</td>\n",
       "    </tr>\n",
       "    <tr>\n",
       "      <th>KMP</th>\n",
       "      <td>0.000000</td>\n",
       "      <td>0.000000</td>\n",
       "      <td>0.00000</td>\n",
       "      <td>1.448435</td>\n",
       "      <td>1.358719</td>\n",
       "      <td>1.512715</td>\n",
       "      <td>1.448435</td>\n",
       "      <td>1.358719</td>\n",
       "      <td>1.512715</td>\n",
       "    </tr>\n",
       "    <tr>\n",
       "      <th>Naive</th>\n",
       "      <td>0.000000</td>\n",
       "      <td>0.000000</td>\n",
       "      <td>0.00000</td>\n",
       "      <td>1.624741</td>\n",
       "      <td>1.518801</td>\n",
       "      <td>1.766956</td>\n",
       "      <td>1.624741</td>\n",
       "      <td>1.518801</td>\n",
       "      <td>1.766956</td>\n",
       "    </tr>\n",
       "  </tbody>\n",
       "</table>\n",
       "</div>"
      ],
      "text/plain": [
       "                Preprocess_time                      Search_time            \\\n",
       "                           mean        min       max        mean       min   \n",
       "Algorithm                                                                    \n",
       "Finite_automata       15.093517  14.639752  15.88757    0.864505  0.743550   \n",
       "KMP                    0.000000   0.000000   0.00000    1.448435  1.358719   \n",
       "Naive                  0.000000   0.000000   0.00000    1.624741  1.518801   \n",
       "\n",
       "                           Full_time                        \n",
       "                      max       mean        min        max  \n",
       "Algorithm                                                   \n",
       "Finite_automata  0.983538  15.958022  15.500485  16.871108  \n",
       "KMP              1.512715   1.448435   1.358719   1.512715  \n",
       "Naive            1.766956   1.624741   1.518801   1.766956  "
      ]
     },
     "execution_count": 77,
     "metadata": {},
     "output_type": "execute_result"
    }
   ],
   "source": [
    "means = result_r4.groupby('Algorithm').agg({'Preprocess_time':['mean', 'min', 'max'],\n",
    "                                     'Search_time':['mean', 'min', 'max'],\n",
    "                                     'Full_time':['mean', 'min', 'max']})\n",
    "means"
   ]
  },
  {
   "attachments": {},
   "cell_type": "markdown",
   "metadata": {},
   "source": [
    "#### 3. Znajdź wszystkie wystąpienia wzorców \"pan\" oraz \"pani\" w załączonym pliku, za pomocą każdego algorytmu. W raporcie zamieść liczbę dopasowań każdego ze wzorców osobno dla każdego algorytmu. Upewnij się, że każdy algorytm zwraca taką samą liczbę dopasowań"
   ]
  },
  {
   "cell_type": "code",
   "execution_count": 78,
   "metadata": {},
   "outputs": [],
   "source": [
    "file = open(\"pan-tadeusz.txt\", \"r\")\n",
    "pan_tadeusz = file.read()\n",
    "file.close()"
   ]
  },
  {
   "cell_type": "code",
   "execution_count": 79,
   "metadata": {},
   "outputs": [
    {
     "name": "stdout",
     "output_type": "stream",
     "text": [
      "Number of occurrences of word \"pan\":\n",
      "Naive algorithm:           401\n",
      "kmp algorithm:             401\n",
      "finite automata algorithm: 401\n",
      "Same results:n             True\n",
      "\n",
      "Number of occurrences of word \"pani\":\n",
      "Naive algorithm:           100\n",
      "kmp algorithm:             100\n",
      "finite automata algorithm: 100\n",
      "Same results:              True\n",
      "\n"
     ]
    }
   ],
   "source": [
    "pattern1 = \"pan\"\n",
    "pattern2 = \"pani\"\n",
    "\n",
    "pan_naive = naive_string_matching(pan_tadeusz, pattern1)\n",
    "pan_kmp = kmp_string_matching(pan_tadeusz, pattern1, prefix_function(pattern1))\n",
    "pan_fa = fa_string_matching(pan_tadeusz, transition_table(pattern1, pan_tadeusz))\n",
    "\n",
    "pani_naive = naive_string_matching(pan_tadeusz, pattern2)\n",
    "pani_kmp = kmp_string_matching(pan_tadeusz, pattern2, prefix_function(pattern2))\n",
    "pani_fa = fa_string_matching(pan_tadeusz, transition_table(pattern2, pan_tadeusz))\n",
    "\n",
    "print(f\"\"\"Number of occurrences of word \\\"pan\\\":\n",
    "Naive algorithm:           {len(pan_naive)}\n",
    "kmp algorithm:             {len(pan_kmp)}\n",
    "finite automata algorithm: {len(pan_fa)}\n",
    "Same results:n             {pan_naive == pan_kmp == pan_fa}\\n\"\"\")\n",
    "\n",
    "print(f\"\"\"Number of occurrences of word \\\"pani\\\":\n",
    "Naive algorithm:           {len(pani_naive)}\n",
    "kmp algorithm:             {len(pani_kmp)}\n",
    "finite automata algorithm: {len(pani_fa)}\n",
    "Same results:              {pani_naive == pani_kmp == pani_fa}\\n\"\"\")"
   ]
  },
  {
   "attachments": {},
   "cell_type": "markdown",
   "metadata": {},
   "source": [
    "#### 4. Porównaj szybkość działania algorytmów dla problemu z p. 3, z uwzględnieniem czasu pre-processingu oraz czasu dopasowania. Pomiar czasu powinien być przeprowadzony co najmniej 5-krotnie i przedstawione w formie tabeli oraz wykresu, uwzględniającego czas minimalny, maksymalny oraz średni czas "
   ]
  },
  {
   "cell_type": "code",
   "execution_count": 80,
   "metadata": {},
   "outputs": [],
   "source": [
    "df = test_all(pan_tadeusz, \"pan\", 100) # 100 pomiarow"
   ]
  },
  {
   "cell_type": "code",
   "execution_count": 81,
   "metadata": {},
   "outputs": [
    {
     "data": {
      "text/html": [
       "<div>\n",
       "<style scoped>\n",
       "    .dataframe tbody tr th:only-of-type {\n",
       "        vertical-align: middle;\n",
       "    }\n",
       "\n",
       "    .dataframe tbody tr th {\n",
       "        vertical-align: top;\n",
       "    }\n",
       "\n",
       "    .dataframe thead tr th {\n",
       "        text-align: left;\n",
       "    }\n",
       "\n",
       "    .dataframe thead tr:last-of-type th {\n",
       "        text-align: right;\n",
       "    }\n",
       "</style>\n",
       "<table border=\"1\" class=\"dataframe\">\n",
       "  <thead>\n",
       "    <tr>\n",
       "      <th></th>\n",
       "      <th colspan=\"3\" halign=\"left\">Preprocess_time</th>\n",
       "      <th colspan=\"3\" halign=\"left\">Search_time</th>\n",
       "      <th colspan=\"3\" halign=\"left\">Full_time</th>\n",
       "    </tr>\n",
       "    <tr>\n",
       "      <th></th>\n",
       "      <th>mean</th>\n",
       "      <th>min</th>\n",
       "      <th>max</th>\n",
       "      <th>mean</th>\n",
       "      <th>min</th>\n",
       "      <th>max</th>\n",
       "      <th>mean</th>\n",
       "      <th>min</th>\n",
       "      <th>max</th>\n",
       "    </tr>\n",
       "    <tr>\n",
       "      <th>Algorithm</th>\n",
       "      <th></th>\n",
       "      <th></th>\n",
       "      <th></th>\n",
       "      <th></th>\n",
       "      <th></th>\n",
       "      <th></th>\n",
       "      <th></th>\n",
       "      <th></th>\n",
       "      <th></th>\n",
       "    </tr>\n",
       "  </thead>\n",
       "  <tbody>\n",
       "    <tr>\n",
       "      <th>Finite_automata</th>\n",
       "      <td>0.026247</td>\n",
       "      <td>0.018918</td>\n",
       "      <td>0.041429</td>\n",
       "      <td>0.041326</td>\n",
       "      <td>0.030990</td>\n",
       "      <td>0.084948</td>\n",
       "      <td>0.067574</td>\n",
       "      <td>0.050000</td>\n",
       "      <td>0.115048</td>\n",
       "    </tr>\n",
       "    <tr>\n",
       "      <th>KMP</th>\n",
       "      <td>0.000010</td>\n",
       "      <td>0.000000</td>\n",
       "      <td>0.001000</td>\n",
       "      <td>0.064187</td>\n",
       "      <td>0.047993</td>\n",
       "      <td>0.087974</td>\n",
       "      <td>0.064197</td>\n",
       "      <td>0.047993</td>\n",
       "      <td>0.087974</td>\n",
       "    </tr>\n",
       "    <tr>\n",
       "      <th>Naive</th>\n",
       "      <td>0.000000</td>\n",
       "      <td>0.000000</td>\n",
       "      <td>0.000000</td>\n",
       "      <td>0.071302</td>\n",
       "      <td>0.061999</td>\n",
       "      <td>0.094291</td>\n",
       "      <td>0.071302</td>\n",
       "      <td>0.061999</td>\n",
       "      <td>0.094291</td>\n",
       "    </tr>\n",
       "  </tbody>\n",
       "</table>\n",
       "</div>"
      ],
      "text/plain": [
       "                Preprocess_time                     Search_time            \\\n",
       "                           mean       min       max        mean       min   \n",
       "Algorithm                                                                   \n",
       "Finite_automata        0.026247  0.018918  0.041429    0.041326  0.030990   \n",
       "KMP                    0.000010  0.000000  0.001000    0.064187  0.047993   \n",
       "Naive                  0.000000  0.000000  0.000000    0.071302  0.061999   \n",
       "\n",
       "                          Full_time                      \n",
       "                      max      mean       min       max  \n",
       "Algorithm                                                \n",
       "Finite_automata  0.084948  0.067574  0.050000  0.115048  \n",
       "KMP              0.087974  0.064197  0.047993  0.087974  \n",
       "Naive            0.094291  0.071302  0.061999  0.094291  "
      ]
     },
     "execution_count": 81,
     "metadata": {},
     "output_type": "execute_result"
    }
   ],
   "source": [
    "means = df.groupby('Algorithm').agg({'Preprocess_time':['mean', 'min', 'max'],\n",
    "                                     'Search_time':['mean', 'min', 'max'],\n",
    "                                     'Full_time':['mean', 'min', 'max']})\n",
    "means\n"
   ]
  },
  {
   "cell_type": "code",
   "execution_count": 82,
   "metadata": {},
   "outputs": [
    {
     "data": {
      "text/plain": [
       "<AxesSubplot:title={'center':'Mean Times of Execution of Pattern Matching Algorithms'}, xlabel='Algorithm', ylabel='Time [s]'>"
      ]
     },
     "execution_count": 82,
     "metadata": {},
     "output_type": "execute_result"
    },
    {
     "data": {
      "image/png": "[encoded data removed]",
      "text/plain": [
       "<Figure size 640x480 with 1 Axes>"
      ]
     },
     "metadata": {},
     "output_type": "display_data"
    }
   ],
   "source": [
    "import matplotlib.pyplot as plt\n",
    "import numpy as np\n",
    "grouped = df.groupby('Algorithm')\n",
    "means = grouped.mean()\n",
    "mins = grouped.min().to_numpy()\n",
    "maxs = grouped.max().to_numpy()\n",
    "meansnp = means.to_numpy()\n",
    "maxs = maxs - means\n",
    "mins = means - mins\n",
    "errs = np.dstack((mins,maxs))\n",
    "errs = np.transpose(errs, (1, 2, 0))\n",
    "\n",
    "fig, ax = plt.subplots()\n",
    "ax.set_title('Mean Times of Execution of Pattern Matching Algorithms', fontsize=16, fontweight='bold', pad=20)\n",
    "# ax.annotate(xytext=(2.5, 2), text = 'The black lines show the minimum and maximum time of a given measurement', xy=(0.06,0.01))\n",
    "ax.text(-0.4, 0.14, 'The black lines show the\\nminimum and maximum time\\nof a given measurement.', style='italic',\n",
    "        bbox={'facecolor': 'red', 'alpha': 0.5, 'pad': 5})\n",
    "ax.set_ylabel('Time [s]')\n",
    "means.plot.bar(yerr=errs, ax = ax)\n"
   ]
  },
  {
   "attachments": {},
   "cell_type": "markdown",
   "metadata": {},
   "source": [
    "#### 5. Zaproponuj tekst oraz wzorzec, dla którego zmierzony czas działania algorytmów 2 oraz 3 (uwzględniający tylko dopasowanie, bez pre-processingu) będzie co najmniej 5-krotnie krótszy niż dla algorytmu naiwnego. Uruchom każdy algorytm na zadanym wzorcu i tekście, w celu sprawdzenia, czy zmierzony czas jest faktycznie co najmniej 5-krotnie krótszy"
   ]
  },
  {
   "cell_type": "code",
   "execution_count": 83,
   "metadata": {},
   "outputs": [
    {
     "name": "stdout",
     "output_type": "stream",
     "text": [
      "(0.008989095687866211, 1.2798304557800293)\n",
      "(0, 8.139204978942871)\n"
     ]
    }
   ],
   "source": [
    "# Proponowany tekst oraz wzorzec do znalezienia w tekście.\n",
    "# Tekst i wzorzec w wielu miejscach się pokrywają, co daje\n",
    "# niekorzystny przypadek dla algorytmu naiwnego.\n",
    "\n",
    "text_5x = \"aab\" * 1500000\n",
    "pattern_5x = \"aab\" * 14000\n",
    "\n",
    "print(test_kmp(text_5x, pattern_5x))\n",
    "print(test_naive(text_5x, pattern_5x))"
   ]
  },
  {
   "cell_type": "code",
   "execution_count": 84,
   "metadata": {},
   "outputs": [
    {
     "data": {
      "text/html": [
       "<div>\n",
       "<style scoped>\n",
       "    .dataframe tbody tr th:only-of-type {\n",
       "        vertical-align: middle;\n",
       "    }\n",
       "\n",
       "    .dataframe tbody tr th {\n",
       "        vertical-align: top;\n",
       "    }\n",
       "\n",
       "    .dataframe thead th {\n",
       "        text-align: right;\n",
       "    }\n",
       "</style>\n",
       "<table border=\"1\" class=\"dataframe\">\n",
       "  <thead>\n",
       "    <tr style=\"text-align: right;\">\n",
       "      <th></th>\n",
       "      <th>Algorithm</th>\n",
       "      <th>Preprocess_time</th>\n",
       "      <th>Search_time</th>\n",
       "      <th>Full_time</th>\n",
       "    </tr>\n",
       "  </thead>\n",
       "  <tbody>\n",
       "    <tr>\n",
       "      <th>0</th>\n",
       "      <td>Naive</td>\n",
       "      <td>0.000000</td>\n",
       "      <td>7.999067</td>\n",
       "      <td>7.999067</td>\n",
       "    </tr>\n",
       "    <tr>\n",
       "      <th>1</th>\n",
       "      <td>KMP</td>\n",
       "      <td>0.009582</td>\n",
       "      <td>1.291328</td>\n",
       "      <td>1.300910</td>\n",
       "    </tr>\n",
       "    <tr>\n",
       "      <th>2</th>\n",
       "      <td>Finite_automata</td>\n",
       "      <td>3740.645034</td>\n",
       "      <td>0.656945</td>\n",
       "      <td>3741.301979</td>\n",
       "    </tr>\n",
       "  </tbody>\n",
       "</table>\n",
       "</div>"
      ],
      "text/plain": [
       "         Algorithm  Preprocess_time  Search_time    Full_time\n",
       "0            Naive         0.000000     7.999067     7.999067\n",
       "1              KMP         0.009582     1.291328     1.300910\n",
       "2  Finite_automata      3740.645034     0.656945  3741.301979"
      ]
     },
     "execution_count": 84,
     "metadata": {},
     "output_type": "execute_result"
    }
   ],
   "source": [
    "result_5x = test_all(text_5x, pattern_5x, 1)\n",
    "result_5x"
   ]
  },
  {
   "cell_type": "code",
   "execution_count": 85,
   "metadata": {},
   "outputs": [
    {
     "name": "stdout",
     "output_type": "stream",
     "text": [
      "Are search times of KMP and finite automata at least 5x faster than naive: True\n"
     ]
    }
   ],
   "source": [
    "naive_search = result_5x.iloc[0, 2]\n",
    "kmp_search = result_5x.iloc[1, 2]\n",
    "finite_search = result_5x.iloc[2, 2]\n",
    "print(\"Are search times of KMP and finite automata at least 5x faster than naive:\", \n",
    "      finite_search * 5 < naive_search and kmp_search * 5 < naive_search)"
   ]
  },
  {
   "attachments": {},
   "cell_type": "markdown",
   "metadata": {},
   "source": [
    "#### 6. Przedstaw wnioski wynikające z przeprowadzonych eksperymentów, ze szczególnym uwzględnieniem praktycznych konsekwencji wynikających z różnic pomiędzy zaimplementowanymi algorytmami"
   ]
  },
  {
   "attachments": {},
   "cell_type": "markdown",
   "metadata": {},
   "source": [
    "Skuteczne używanie algorytmów dopasowywania wzorców wymaga ich świadomego wyboru. Każdy z algorytmów posiada swoje unikalne cechy:\n",
    "\n",
    "* Naiwny: łatwy w implementacji, wystarczający do wyszukiwania w niewielkich danych, w których występuje duża różnorodność liter. Gdy w zadanym tekście wzorzec (albo jego duża początkowa część) powtarza się często (i jego długość jest zależna od długości tekstu) algorytm staje się wysoce nieoptymalny osiągając czas rzędu O(n**2)\n",
    "* KMP: W ogólnym przypadku najszybszy algorytm, który eliminuje problemy występujące w algorytmie naiwnym. Przy tekstach różnorodnych (np losowe litery jak w przykładach) jest nieznacznie szybszy od naiwnego, natomiast nie ma problemu z możliwą kwadratową złożonością obliczeniową, który występuje w poprzednio omawianym algorytmie. Czas preprocessingu jest bardzo krótki, gdyż wymaga jedynie liniowego przejścia po tablicy ze wzorcem. \n",
    "* Automat skończony: algorytm specyficzny biorąc pod uwagę jego właściwości. Czas wyszukiwania wzorca w tekście przy pomocy tego algorytmu jest najszybszy w każdym z przypadków, jednak preprocessing sprawia, że nie jest to optymalny wybór w większości przypadków. Tworzenie tablicy przejść ma złożoność O(n**3*|Σ|), gdzie n to długość wzorca, a |Σ| to ilość znaków w alfabecie. Sprawia to, że preprocessing jest zauważalnie wolniejszy od tego z algorytmu KMP, a niejednokrotnie będzie wolniejszy od czasu wyszukiwania w algorytmie naiwnym. Jeżeli jednak bierzemy tylko i wyłącznie czas wyszukiwania, to algorytm automatu skończonego jest najszybszy - w końcu to tylko liniowe przejście po tablicy z tekstem. Moim zdaniem algorytmu warto używać, gdy dany problem wymaga pojedynczego utworzenia tablicy przejść, a następnie używania tej tablicy dla wielu różnych tekstów (czyli gdy nasz wzorzec się nie zmienia). W innych wypadkach bardziej opłacalne jest używanie algorytmu KMP (szczególnie gdy wzorzec jest długi), lub nawet algorytmu naiwnego."
   ]
  }
 ],
 "metadata": {
  "kernelspec": {
   "display_name": "base",
   "language": "python",
   "name": "python3"
  },
  "language_info": {
   "codemirror_mode": {
    "name": "ipython",
    "version": 3
   },
   "file_extension": ".py",
   "mimetype": "text/x-python",
   "name": "python",
   "nbconvert_exporter": "python",
   "pygments_lexer": "ipython3",
   "version": "3.9.13"
  },
  "orig_nbformat": 4
 },
 "nbformat": 4,
 "nbformat_minor": 2
}
