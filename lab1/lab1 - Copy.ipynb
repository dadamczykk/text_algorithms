{
 "cells": [
  {
   "attachments": {},
   "cell_type": "markdown",
   "metadata": {},
   "source": [
    "# Dominik Adamczyk\n",
    "## Laboratorium 1 - rozwiązania "
   ]
  },
  {
   "attachments": {},
   "cell_type": "markdown",
   "metadata": {},
   "source": [
    "#### Zaimplementuj w Pythonie algorytmy wyszukiwania wzorców"
   ]
  },
  {
   "attachments": {},
   "cell_type": "markdown",
   "metadata": {},
   "source": [
    "##### Naiwny"
   ]
  },
  {
   "cell_type": "code",
   "execution_count": 2,
   "metadata": {},
   "outputs": [],
   "source": [
    "def naive_string_matching(text, pattern):\n",
    "    results = []\n",
    "    for s in range(len(text) - len(pattern) + 1):\n",
    "        if text[s:s+len(pattern)] == pattern:\n",
    "            results.append(s)\n",
    "    return results"
   ]
  },
  {
   "attachments": {},
   "cell_type": "markdown",
   "metadata": {},
   "source": [
    "### Algorytm KMP"
   ]
  },
  {
   "cell_type": "code",
   "execution_count": 3,
   "metadata": {},
   "outputs": [],
   "source": [
    "def prefix_function(pattern):\n",
    "    pi = [0]\n",
    "    k = 0\n",
    "    for q in range(1, len(pattern)):\n",
    "        while (k > 0 and pattern[k] != pattern[q]):\n",
    "            k = pi[k-1]\n",
    "        if pattern[k] == pattern[q]:\n",
    "            k = k+1\n",
    "        pi.append(k)\n",
    "    return pi\n",
    "\n",
    "def kmp_string_matching(text, pattern, pi):\n",
    "    q = 0\n",
    "    results = []\n",
    "    for i in range(0, len(text)):\n",
    "        while q > 0 and pattern[q] != text[i]:\n",
    "            q = pi[q-1]\n",
    "        if pattern[q] == text[i]:\n",
    "            q = q + 1\n",
    "        if q == len(pattern):\n",
    "            results.append(i - q + 1)\n",
    "            q = pi[q-1]\n",
    "    return results"
   ]
  },
  {
   "attachments": {},
   "cell_type": "markdown",
   "metadata": {},
   "source": [
    "#### Automat skończony\n"
   ]
  },
  {
   "cell_type": "code",
   "execution_count": 92,
   "metadata": {},
   "outputs": [],
   "source": [
    "def transition_table(pattern, alphabet):\n",
    "    result = []\n",
    "    for q in range(0, len(pattern) + 1):\n",
    "        if q %100 == 0:\n",
    "            print(q)\n",
    "        result.append({})\n",
    "        for a in set(alphabet):\n",
    "            k = min(len(pattern) + 1, q + 2)\n",
    "            while True:\n",
    "                k = k - 1\n",
    "                if (k == 0 or pattern[:k] == (pattern[:q] + a)[-k:]):\n",
    "                    break\n",
    "            result[q][a] = k\n",
    "    return result\n",
    "\n",
    "def fa_string_matching(text, delta):\n",
    "    q = 0\n",
    "    results = []\n",
    "    length = len(delta) - 1\n",
    "    for i in range(0, len(text)):\n",
    "        q = delta[q][text[i]]\n",
    "        if q == length:\n",
    "            results.append(i - q + 1)\n",
    "    return results"
   ]
  },
  {
   "attachments": {},
   "cell_type": "markdown",
   "metadata": {},
   "source": [
    "#### Zaimplementuj testy porównujące szybkość działania wyżej wymienionych algorytmów, z rozbiciem na czasu pre-processingu oraz czas wyszukiwania wzorca w tekście"
   ]
  },
  {
   "cell_type": "code",
   "execution_count": 5,
   "metadata": {},
   "outputs": [],
   "source": [
    "from time import time\n",
    "import pandas as pd\n",
    "\n",
    "def test_naive(text, pattern):\n",
    "    t = time()\n",
    "    naive_string_matching(text, pattern)\n",
    "    return 0, time() - t\n",
    "\n",
    "def test_kmp(text, pattern):\n",
    "    t = time()\n",
    "    pf = prefix_function(pattern)\n",
    "    preprocess_time = time() - t\n",
    "    t = time()\n",
    "    kmp_string_matching(text, pattern, pf)\n",
    "    return preprocess_time, time() - t\n",
    "\n",
    "def test_fa(text, pattern):\n",
    "    t = time()\n",
    "    tt = transition_table(pattern, text)\n",
    "    preprocess_time = time() - t\n",
    "    t = time()\n",
    "    fa_string_matching(text, tt)\n",
    "    return preprocess_time, time() - t\n",
    "\n",
    "def test_all(text, pattern, n):\n",
    "    df = pd.DataFrame({\"Algorithm\": [], \"Preprocess_time\" : [],\n",
    "                    \"Search_time\" : [], \"Full_time\" : []})\n",
    "    for i in range(n):\n",
    "        naive_pre, naive_sear = test_naive(text, pattern)\n",
    "        kmp_pre, kmp_sear = test_kmp(text, pattern)\n",
    "        fa_pre, fa_sear = test_fa(text, pattern)\n",
    "        new_rows = pd.DataFrame({\"Algorithm\": [\"Naive\", \"KMP\", \"Finite_automata\"],\n",
    "                              \"Preprocess_time\" : [naive_pre, kmp_pre, fa_pre],\n",
    "                              \"Search_time\" : [naive_sear, kmp_sear, fa_sear],\n",
    "                              \"Full_time\" : [naive_pre+naive_sear, kmp_pre+kmp_sear, fa_pre+fa_sear]})\n",
    "        df = pd.concat([df, new_rows], ignore_index=True)\n",
    "    return df\n",
    "\n"
   ]
  },
  {
   "cell_type": "code",
   "execution_count": 76,
   "metadata": {},
   "outputs": [],
   "source": [
    "import random\n",
    "import string\n",
    "def generate_random_string(l):\n",
    "    return ''.join(random.choice(string.ascii_letters\n",
    "                                 + string.digits) for _ in range(l))"
   ]
  },
  {
   "attachments": {},
   "cell_type": "markdown",
   "metadata": {},
   "source": [
    "Losowy test 1."
   ]
  },
  {
   "cell_type": "code",
   "execution_count": 78,
   "metadata": {},
   "outputs": [],
   "source": [
    "text_r1 = generate_random_string(10000000)\n",
    "pattern_r1 = generate_random_string(10)"
   ]
  },
  {
   "cell_type": "code",
   "execution_count": 81,
   "metadata": {},
   "outputs": [],
   "source": [
    "result_r1 = test_all(text_r1, pattern_r1, 10)"
   ]
  },
  {
   "cell_type": "code",
   "execution_count": 85,
   "metadata": {},
   "outputs": [
    {
     "name": "stdout",
     "output_type": "stream",
     "text": [
      "                Preprocess_time Search_time Full_time                    \n",
      "                           mean        mean      mean       min       max\n",
      "Algorithm                                                                \n",
      "Finite_automata        1.660419    1.001444  2.661863  2.594374  2.767302\n",
      "KMP                    0.000000    1.541157  1.541157  1.479107  1.712364\n",
      "Naive                  0.000000    1.732907  1.732907  1.620245  1.904849\n"
     ]
    }
   ],
   "source": [
    "means = result_r1.groupby('Algorithm').agg({'Preprocess_time':['mean'],\n",
    "                                     'Search_time':['mean'],\n",
    "                                     'Full_time':['mean', 'min', 'max']})\n",
    "print(means)\n"
   ]
  },
  {
   "attachments": {},
   "cell_type": "markdown",
   "metadata": {},
   "source": [
    "Losowy test 2."
   ]
  },
  {
   "cell_type": "code",
   "execution_count": 86,
   "metadata": {},
   "outputs": [],
   "source": [
    "text_r2 = generate_random_string(10000000)\n",
    "pattern_r2 = generate_random_string(1000)"
   ]
  },
  {
   "cell_type": "code",
   "execution_count": 88,
   "metadata": {},
   "outputs": [],
   "source": [
    "result_r2 = test_all(text_r2, pattern_r2, 1)"
   ]
  },
  {
   "cell_type": "code",
   "execution_count": 341,
   "metadata": {},
   "outputs": [
    {
     "name": "stdout",
     "output_type": "stream",
     "text": [
      "         Algorithm  Preprocess_time  Search_time   Full_time\n",
      "0            Naive         0.000000     2.722198    2.722198\n",
      "1              KMP         0.000000     1.616200    1.616200\n",
      "2  Finite_automata       171.172154     1.042874  172.215029\n"
     ]
    }
   ],
   "source": [
    "means = result_r2.groupby('Algorithm').agg({'Preprocess_time':['mean'],\n",
    "                                     'Search_time':['mean'],\n",
    "                                     'Full_time':['mean', 'min', 'max']})\n",
    "print(result_r2)"
   ]
  },
  {
   "attachments": {},
   "cell_type": "markdown",
   "metadata": {},
   "source": [
    "#### Znajdź wszystkie wystąpienia wzorców \"pan\" oraz \"pani\" w załączonym pliku, za pomocą każdego algorytmu. W raporcie zamieść liczbę dopasowań każdego ze wzorców osobno dla każdego algorytmu. Upewnij się, że każdy algorytm zwraca taką samą liczbę dopasowań"
   ]
  },
  {
   "cell_type": "code",
   "execution_count": 39,
   "metadata": {},
   "outputs": [],
   "source": [
    "file = open(\"pan-tadeusz.txt\", \"r\")\n",
    "pan_tadeusz = file.read()\n",
    "file.close()"
   ]
  },
  {
   "cell_type": "code",
   "execution_count": 73,
   "metadata": {},
   "outputs": [
    {
     "name": "stdout",
     "output_type": "stream",
     "text": [
      "Searching word \"pan\":\n",
      "naive algorithm: 401\n",
      "kmp algorithm: 401\n",
      "finite automata algorithm: 401\n",
      "Same results : True\n",
      "\n",
      "\n",
      "Searching word \"pani\":\n",
      "naive algorithm: 100\n",
      "kmp algorithm: 100\n",
      "finite automata algorithm: 100\n",
      "Same results : True\n"
     ]
    }
   ],
   "source": [
    "pattern1 = \"pan\"\n",
    "pattern2 = \"pani\"\n",
    "\n",
    "pan_naive = naive_string_matching(pan_tadeusz, pattern1)\n",
    "pan_kmp = kmp_string_matching(pan_tadeusz, pattern1, prefix_function(pattern1))\n",
    "pan_fa = fa_string_matching(pan_tadeusz, transition_table(pattern1, pan_tadeusz))\n",
    "\n",
    "pani_naive = naive_string_matching(pan_tadeusz, pattern2)\n",
    "pani_kmp = kmp_string_matching(pan_tadeusz, pattern2, prefix_function(pattern2))\n",
    "pani_fa = fa_string_matching(pan_tadeusz, transition_table(pattern2, pan_tadeusz))\n",
    "\n",
    "print(f\"\"\"Searching word \\\"pan\\\":\n",
    "Naive algorithm: {len(pan_naive)}\n",
    "kmp algorithm: {len(pan_kmp)}\n",
    "finite automata algorithm: {len(pan_fa)}\n",
    "Same results : {pan_naive == pan_kmp == pan_fa}\\n\"\"\")\n",
    "\n",
    "print(f\"\"\"Searching word \\\"pani\\\":\n",
    "Naive algorithm: {len(pani_naive)}\n",
    "kmp algorithm: {len(pani_kmp)}\n",
    "finite automata algorithm: {len(pani_fa)}\n",
    "Same results : {pani_naive == pani_kmp == pani_fa}\\n\"\"\")"
   ]
  },
  {
   "attachments": {},
   "cell_type": "markdown",
   "metadata": {},
   "source": [
    "#### Porównaj szybkość działania algorytmów dla problemu z p. 3, z uwzględnieniem czasu pre-processingu oraz czasu dopasowania. Pomiar czasu powinien być przeprowadzony co najmniej 5-krotnie i przedstawione w formie tabeli oraz wykresu, uwzględniającego czas minimalny, maksymalny oraz średni czas"
   ]
  },
  {
   "cell_type": "code",
   "execution_count": 75,
   "metadata": {},
   "outputs": [
    {
     "name": "stdout",
     "output_type": "stream",
     "text": [
      "                Preprocess_time Search_time Full_time                    \n",
      "                           mean        mean      mean       min       max\n",
      "Algorithm                                                                \n",
      "Finite_automata        0.028935    0.046510  0.075445  0.062689  0.095877\n",
      "KMP                    0.000000    0.072909  0.072909  0.057506  0.137906\n",
      "Naive                  0.000000    0.079825  0.079825  0.071613  0.107293\n"
     ]
    }
   ],
   "source": [
    "df = test_all(pan_tadeusz, \"pan\", 100) # 100 measurements\n",
    "means = df.groupby('Algorithm').agg({'Preprocess_time':['mean'],\n",
    "                                     'Search_time':['mean'],\n",
    "                                     'Full_time':['mean', 'min', 'max']})\n",
    "print(means)\n",
    "\n"
   ]
  },
  {
   "cell_type": "code",
   "execution_count": 102,
   "metadata": {},
   "outputs": [],
   "source": [
    "text_5x = \"aab\" * 100000\n",
    "pattern_5x = \"aab\" * 10000"
   ]
  },
  {
   "cell_type": "code",
   "execution_count": 103,
   "metadata": {},
   "outputs": [
    {
     "name": "stdout",
     "output_type": "stream",
     "text": [
      "(0.0009975433349609375, 0.1351633071899414)\n",
      "(0, 0.10802960395812988)\n",
      "0\n",
      "100\n",
      "200\n",
      "300\n",
      "400\n",
      "500\n",
      "600\n",
      "700\n",
      "800\n",
      "900\n",
      "1000\n",
      "1100\n",
      "1200\n",
      "1300\n",
      "1400\n",
      "1500\n",
      "1600\n",
      "1700\n",
      "1800\n",
      "1900\n",
      "2000\n",
      "2100\n",
      "2200\n",
      "2300\n",
      "2400\n",
      "2500\n"
     ]
    }
   ],
   "source": [
    "# result_r3 = test_all(text_5x, pattern_5x, 1)\n",
    "print(test_kmp(text_5x,pattern_5x))\n",
    "print(test_naive(text_5x, pattern_5x))\n",
    "print(test_fa(text_5x, pattern_5x))"
   ]
  },
  {
   "cell_type": "code",
   "execution_count": null,
   "metadata": {},
   "outputs": [
    {
     "name": "stdout",
     "output_type": "stream",
     "text": [
      "                Preprocess_time Search_time   Full_time                        \n",
      "                           mean        mean        mean         min         max\n",
      "Algorithm                                                                      \n",
      "Finite_automata      117.375464    1.274849  118.650313  118.650313  118.650313\n",
      "KMP                    0.000000    3.484569    3.484569    3.484569    3.484569\n",
      "Naive                  0.000000    3.508453    3.508453    3.508453    3.508453\n",
      "         Algorithm  Preprocess_time  Search_time   Full_time\n",
      "0            Naive         0.000000     3.508453    3.508453\n",
      "1              KMP         0.000000     3.484569    3.484569\n",
      "2  Finite_automata       117.375464     1.274849  118.650313\n"
     ]
    }
   ],
   "source": [
    "means = result_r3.groupby('Algorithm').agg({'Preprocess_time':['mean'],\n",
    "                                     'Search_time':['mean'],\n",
    "                                     'Full_time':['mean', 'min', 'max']})\n",
    "print(means)\n",
    "print(result_r3)"
   ]
  },
  {
   "cell_type": "code",
   "execution_count": null,
   "metadata": {},
   "outputs": [],
   "source": []
  }
 ],
 "metadata": {
  "kernelspec": {
   "display_name": "base",
   "language": "python",
   "name": "python3"
  },
  "language_info": {
   "codemirror_mode": {
    "name": "ipython",
    "version": 3
   },
   "file_extension": ".py",
   "mimetype": "text/x-python",
   "name": "python",
   "nbconvert_exporter": "python",
   "pygments_lexer": "ipython3",
   "version": "3.9.13"
  },
  "orig_nbformat": 4
 },
 "nbformat": 4,
 "nbformat_minor": 2
}
