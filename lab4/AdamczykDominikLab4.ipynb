{
 "cells": [
  {
   "attachments": {},
   "cell_type": "markdown",
   "metadata": {},
   "source": [
    "# Dominik Adamczyk\n",
    "## Laboratorium 4 - rozwiązania "
   ]
  },
  {
   "cell_type": "code",
   "execution_count": 192,
   "metadata": {},
   "outputs": [],
   "source": [
    "import numpy as np\n",
    "import string\n",
    "from collections import Counter\n",
    "from itertools import combinations, combinations_with_replacement\n",
    "import sklearn.cluster\n",
    "from pandas import DataFrame"
   ]
  },
  {
   "attachments": {},
   "cell_type": "markdown",
   "metadata": {},
   "source": [
    "### N-grams\n",
    "\n",
    "W zadaniu będę posługiwał się n-gramami dla metryk cosinusowej, Sorensena-Dice'a, euklidesowej."
   ]
  },
  {
   "cell_type": "code",
   "execution_count": 40,
   "metadata": {},
   "outputs": [],
   "source": [
    "def generate_ngrams(words, n):\n",
    "    ngrams = [words[i:i+n] for i in range(len(words) - n + 1)]\n",
    "    return Counter(ngrams)"
   ]
  },
  {
   "attachments": {},
   "cell_type": "markdown",
   "metadata": {},
   "source": [
    "## Metryki\n",
    "\n",
    "1. Zaimplementuj przynajmniej 3 \"metryki\" spośród wymienionych: cosinusowa, LCS, DICE, euklidesowa, Levenshteina.\n",
    "\n",
    "Wszystkie implementowane metryki będą w pewien sposób normalizowane, tak żeby teksty takie same po porównaniu metryką dawały wynik 0 (tożsame z odległością dwóch punktów na płaszczyźnie, które są w tym samym miejscu), a teksty całkowicie różne dawały w wyniku 1. Dzięki temu metryki będą w pewien sposób porównywalne do siebie."
   ]
  },
  {
   "attachments": {},
   "cell_type": "markdown",
   "metadata": {},
   "source": [
    "### \"Metryka\" cosinusowa\n",
    "\n",
    "$$\n",
    "\\begin{equation}\n",
    "    \\cos(\\theta) = \\frac{\\mathbf{A} \\cdot \\mathbf{B}}{\\|\\mathbf{A}\\| \\|\\mathbf{B}\\|}= \\frac{\\sum\\limits_{i=1}^{n} A_i B_i}{\\sqrt{\\sum\\limits_{i=1}^{n} A_i^2} \\sqrt{\\sum\\limits_{i=1}^{n} B_i^2}}\n",
    "    \\qquad\\begin{aligned}\n",
    "    &\\text{gdzie:} \\\\\n",
    "    &\\mathbf{A}\\text{ and }\\mathbf{B} \\text{ są porównywanymi wektorami}\\\\\n",
    "    &n \\text{ jest wymiarem wektora}\\\\\n",
    "    &\\theta \\text{ reprezentuje kąt pomiędzy } \\mathbf{A} \\text{ i } \\mathbf{B} \\text{ wielowymiarowej przestrzeni}\n",
    "    \\end{aligned}\n",
    "\\end{equation}\n",
    "$$\n",
    "\n",
    "Wynik należy do przedziału $[-1,1]$. W tym zadaniu wynik będę odejmował od liczby 1 tak, aby takie same wektory miały odległość od siebie równą 0.\n"
   ]
  },
  {
   "cell_type": "code",
   "execution_count": 41,
   "metadata": {},
   "outputs": [],
   "source": [
    "def cosine_similarity(A, B, n=2):\n",
    "    n = min(len(A), len(B), n)\n",
    "    A_grams = generate_ngrams(A, n)\n",
    "    B_grams = generate_ngrams(B, n)\n",
    "    if n == 0 : return 1\n",
    "    return 1 - round(sum(A_grams[key] * B_grams[key] for key in A_grams.keys() & B_grams.keys()) / \\\n",
    "            (np.linalg.norm(list(A_grams.values())) * np.linalg.norm(list(B_grams.values()))), 15)\n"
   ]
  },
  {
   "attachments": {},
   "cell_type": "markdown",
   "metadata": {},
   "source": [
    "### Dystans euklidesowy \n",
    "\n",
    "$$\n",
    "\\begin{equation}\n",
    "    d(x,y) = \\sqrt{\\sum_{i=1}^{n}(x_i-y_i)^2}\n",
    "    \\qquad\\begin{aligned}\n",
    "    &\\text{gdzie:} \\\\\n",
    "    &d(x,y) \\text{ jest dystansem euklidesowym} \\\\\n",
    "    &x_i, y_i \\text{ są wartościami wektorów w i-tym wymiarze } x \\text{ and } y \\\\\n",
    "    &n \\text{ jest wymiarem wektora}\n",
    "    \\end{aligned}\n",
    "\\end{equation}\n",
    "$$"
   ]
  },
  {
   "cell_type": "code",
   "execution_count": 42,
   "metadata": {},
   "outputs": [],
   "source": [
    "def euclidean_distance(A, B, n=2):\n",
    "    n = min(len(A), len(B), n)\n",
    "    A_grams = generate_ngrams(A, n)\n",
    "    B_grams = generate_ngrams(B, n)\n",
    "    if n == 0 : return 1\n",
    "    keys = set(A_grams.keys()) | set(B_grams.keys())\n",
    "    A_vals = np.array([A_grams[key] for key in keys])\n",
    "    B_vals = np.array([B_grams[key] for key in keys])\n",
    "    return np.linalg.norm(A_vals - B_vals) / np.linalg.norm(np.concatenate((A_vals, B_vals)))"
   ]
  },
  {
   "attachments": {},
   "cell_type": "markdown",
   "metadata": {},
   "source": [
    "### Współczynnik Dice\n",
    "\n",
    "$$\n",
    "\\begin{equation}\n",
    "    \\text{Dice}(A, B) = \\frac{2 |A \\cap B|}{|A| + |B|} \n",
    "    \\qquad\\begin{aligned}\n",
    "    &\\text{gdzie:} \\\\\n",
    "    &A \\text{ and } B \\text{ reprezentują dwa porównywane zbiory} \\\\\n",
    "    &|A| \\text{ i } |B| \\text{ reprezentuje liczbę elementów zbioru} \\\\\n",
    "    &\\text{i } |A \\cap B| \\text{ reprezentuje liczbę elementów przecięcia zbiorów}\n",
    "    \\end{aligned}\n",
    "\\end{equation}\n",
    "$$"
   ]
  },
  {
   "cell_type": "code",
   "execution_count": 43,
   "metadata": {},
   "outputs": [],
   "source": [
    "def dice(A, B, n=2):\n",
    "    n = min(len(A), len(B), n)\n",
    "    if n==0: return 1\n",
    "    A = set(generate_ngrams(A, n).keys())\n",
    "    B = set(generate_ngrams(B, n).keys())\n",
    "    \n",
    "    return 1 - 2 * len(A & B) / (len(A) + len(B))\n",
    "    "
   ]
  },
  {
   "attachments": {},
   "cell_type": "markdown",
   "metadata": {},
   "source": [
    "### Odległość Levenshteina"
   ]
  },
  {
   "cell_type": "code",
   "execution_count": 44,
   "metadata": {},
   "outputs": [],
   "source": [
    "def levenshtein_distance(str1, str2):\n",
    "    m = len(str1)\n",
    "    n = len(str2)\n",
    "    if n == 0 or m == 0: return 1\n",
    "    dp = [[0 for j in range(n+1)] for i in range(m+1)]\n",
    "\n",
    "    for i in range(m+1):\n",
    "        dp[i][0] = i\n",
    "    for j in range(n+1):\n",
    "        dp[0][j] = j\n",
    "    \n",
    "    for i in range(1, m+1):\n",
    "        for j in range(1, n+1):\n",
    "            if str1[i-1] == str2[j-1]:\n",
    "                dp[i][j] = dp[i-1][j-1]\n",
    "            else:\n",
    "                dp[i][j] = 1 + min(dp[i-1][j], dp[i][j-1], dp[i-1][j-1])\n",
    "    return dp[-1][-1] / max(m, n)"
   ]
  },
  {
   "attachments": {},
   "cell_type": "markdown",
   "metadata": {},
   "source": [
    "### LCS - Najdłuższy wspólny podciąg (Longest Common Subsequence)"
   ]
  },
  {
   "cell_type": "code",
   "execution_count": 45,
   "metadata": {},
   "outputs": [],
   "source": [
    "def lcs(str1, str2):\n",
    "    m = len(str1)\n",
    "    n = len(str2)\n",
    "    if n == 0 or m == 0: return 1\n",
    "    lcs_table = [[0] * (n + 1) for i in range(m + 1)]\n",
    "    for i in range(1, m + 1):\n",
    "        for j in range(1, n + 1):\n",
    "            if str1[i-1] == str2[j-1]:\n",
    "                lcs_table[i][j] = lcs_table[i-1][j-1] + 1\n",
    "            else:\n",
    "                lcs_table[i][j] = max(lcs_table[i][j-1], lcs_table[i-1][j])\n",
    "\n",
    "    return 1 - lcs_table[-1][-1] / max(m, n)"
   ]
  },
  {
   "attachments": {},
   "cell_type": "markdown",
   "metadata": {},
   "source": [
    "### Czy to w ogóle działa?\n",
    "\n",
    "Poniżej sprawdzę czy metryki dają (w przybliżeniu) oczekiwane wyniki z przedziału $[0, 1]$. "
   ]
  },
  {
   "attachments": {},
   "cell_type": "markdown",
   "metadata": {},
   "source": [
    "1. Teksty takie same"
   ]
  },
  {
   "cell_type": "code",
   "execution_count": 46,
   "metadata": {},
   "outputs": [
    {
     "name": "stdout",
     "output_type": "stream",
     "text": [
      "Metryka cosinusowa:  0.0\n",
      "Odległość euklidesowa:  0.0\n",
      "Współczynnik Dice:  0.0\n",
      "Odległość levenshteina:  0.0\n",
      "Najdłuższy wspólny podciąg:  0.0\n"
     ]
    }
   ],
   "source": [
    "t1 = \"Ala Ma kotA\"\n",
    "t2 = t1\n",
    "\n",
    "print(\"Metryka cosinusowa: \", cosine_similarity(t1, t2))\n",
    "print(\"Odległość euklidesowa: \", euclidean_distance(t1, t2))\n",
    "print(\"Współczynnik Dice: \", dice(t1, t2))\n",
    "print(\"Odległość levenshteina: \", levenshtein_distance(t1, t2))\n",
    "print(\"Najdłuższy wspólny podciąg: \", lcs(t1, t2))\n"
   ]
  },
  {
   "attachments": {},
   "cell_type": "markdown",
   "metadata": {},
   "source": [
    "2. Teksty zupełnie różne"
   ]
  },
  {
   "cell_type": "code",
   "execution_count": 47,
   "metadata": {},
   "outputs": [
    {
     "name": "stdout",
     "output_type": "stream",
     "text": [
      "Metryka cosinusowa:  1.0\n",
      "Odległość euklidesowa:  1.0\n",
      "Współczynnik Dice:  1.0\n",
      "Odległość levenshteina:  1.0\n",
      "Najdłuższy wspólny podciąg:  1.0\n"
     ]
    }
   ],
   "source": [
    "t1 = \"Ala Ma kotA\"\n",
    "t2 = \"PieS_Nie_zJe\"\n",
    "\n",
    "print(\"Metryka cosinusowa: \", cosine_similarity(t1, t2))\n",
    "print(\"Odległość euklidesowa: \", euclidean_distance(t1, t2))\n",
    "print(\"Współczynnik Dice: \", dice(t1, t2))\n",
    "print(\"Odległość levenshteina: \", levenshtein_distance(t1, t2))\n",
    "print(\"Najdłuższy wspólny podciąg: \", lcs(t1, t2))\n"
   ]
  },
  {
   "attachments": {},
   "cell_type": "markdown",
   "metadata": {},
   "source": [
    "3. Teksty bardzo podobne"
   ]
  },
  {
   "cell_type": "code",
   "execution_count": 48,
   "metadata": {},
   "outputs": [
    {
     "name": "stdout",
     "output_type": "stream",
     "text": [
      "Metryka cosinusowa:  0.14365116142232504\n",
      "Odległość euklidesowa:  0.3922322702763681\n",
      "Współczynnik Dice:  0.17647058823529416\n",
      "Odległość levenshteina:  0.16666666666666666\n",
      "Najdłuższy wspólny podciąg:  0.16666666666666663\n"
     ]
    }
   ],
   "source": [
    "t1 = \"Ala ma mopsa\"\n",
    "t2 = \"Ala ma psa\"\n",
    "\n",
    "print(\"Metryka cosinusowa: \", cosine_similarity(t1, t2))\n",
    "print(\"Odległość euklidesowa: \", euclidean_distance(t1, t2))\n",
    "print(\"Współczynnik Dice: \", dice(t1, t2))\n",
    "print(\"Odległość levenshteina: \", levenshtein_distance(t1, t2))\n",
    "print(\"Najdłuższy wspólny podciąg: \", lcs(t1, t2))\n"
   ]
  },
  {
   "attachments": {},
   "cell_type": "markdown",
   "metadata": {},
   "source": [
    "3. Teksty lekko podobne"
   ]
  },
  {
   "cell_type": "code",
   "execution_count": 49,
   "metadata": {},
   "outputs": [
    {
     "name": "stdout",
     "output_type": "stream",
     "text": [
      "Metryka cosinusowa:  0.723973776263058\n",
      "Odległość euklidesowa:  0.8509629433967631\n",
      "Współczynnik Dice:  0.7391304347826086\n",
      "Odległość levenshteina:  0.7333333333333333\n",
      "Najdłuższy wspólny podciąg:  0.6666666666666667\n"
     ]
    }
   ],
   "source": [
    "t1 = \"Ala ma mopsa\"\n",
    "t2 = \"Owce lubią mopy\"\n",
    "\n",
    "print(\"Metryka cosinusowa: \", cosine_similarity(t1, t2))\n",
    "print(\"Odległość euklidesowa: \", euclidean_distance(t1, t2))\n",
    "print(\"Współczynnik Dice: \", dice(t1, t2))\n",
    "print(\"Odległość levenshteina: \", levenshtein_distance(t1, t2))\n",
    "print(\"Najdłuższy wspólny podciąg: \", lcs(t1, t2))\n"
   ]
  },
  {
   "attachments": {},
   "cell_type": "markdown",
   "metadata": {},
   "source": [
    "## Ocena jakości klasteryzacji\n",
    "\n",
    "2. Zaimplementuj przynajmniej 1 sposób oceny jakości klasteryzacji (np. indeks Daviesa-Bouldina)\n",
    "\n",
    "\n",
    "W mojej implementacji centroidem będzie tekst w klastrze który ma najmniejszą odległość do wszystkich pozostałych tekstów według zadanej miary.\n",
    "Decyzja spowodowana jest dopasowaniem algorytmu do wszystkich zaimplementowanych miar - w dwóch przypadkach tekst nie jest zamieniany na wektor częstości (dla LCS i Levenshteina)"
   ]
  },
  {
   "attachments": {},
   "cell_type": "markdown",
   "metadata": {},
   "source": [
    "### Indeks Daviesa-Bouldina"
   ]
  },
  {
   "cell_type": "code",
   "execution_count": 50,
   "metadata": {},
   "outputs": [],
   "source": [
    "def get_centroid(cluster, metric):\n",
    "    k = len(cluster)\n",
    "    dist = np.zeros(k)\n",
    "    for i, j in combinations(range(k), 2):\n",
    "        to_add = metric(cluster[i], cluster[j])\n",
    "        dist[i] += to_add\n",
    "        dist[j] += to_add\n",
    "    cluster = zip(dist, cluster)\n",
    "    return min(cluster, key=lambda x : x[0])[1]\n",
    "    \n",
    "\n",
    "def intra_cluster_dispersion(cluster, metric):\n",
    "    centroid = get_centroid(cluster, metric)\n",
    "    return (sum([metric(text, centroid) ** 2 for text in cluster]) / len(cluster)) ** 0.5\n",
    "\n",
    "def davies_bouldin_index(clusters, metric):\n",
    "    n = len(clusters)\n",
    "    centroids = [get_centroid(cluster, metric) for cluster in clusters]\n",
    "    Si = [intra_cluster_dispersion(cluster, metric) for cluster in clusters]\n",
    "    \n",
    "    D_sum = 0\n",
    "    \n",
    "    for i in range(n):\n",
    "        tmp = 0\n",
    "        for j in range(n):\n",
    "            if i == j: continue\n",
    "            tmp = max(tmp, (Si[i] + Si[j]) / metric(centroids[i], centroids[j]))\n",
    "        D_sum += tmp\n",
    "    \n",
    "    return D_sum / n"
   ]
  },
  {
   "attachments": {},
   "cell_type": "markdown",
   "metadata": {},
   "source": [
    "### Indeks Dunna"
   ]
  },
  {
   "attachments": {},
   "cell_type": "markdown",
   "metadata": {},
   "source": [
    "Definiuję wielkość klastra jako odległość między dwoma najodleglejszymi punktami w tym klastrze. Możliwości definicji jest więcej np. odległość wszystkich punktów danego klastra od ich centroidu.\n",
    "\n",
    "Dystans pomiędzy klastrami zdefiniuję jako odległość między dwoma najbliższymi punktami należącymi do różnych klastrów.\n",
    "\n",
    "Powyższe definicje są oryginalnymi dystansami zaproponowanymi przez Dunna."
   ]
  },
  {
   "cell_type": "code",
   "execution_count": 51,
   "metadata": {},
   "outputs": [],
   "source": [
    "def cluster_size(cluster, metric):\n",
    "    return max(metric(ti, tj) for ti, tj in combinations_with_replacement(cluster, 2))\n",
    "\n",
    "def intercluster_distance(cluster1, cluster2, metric):\n",
    "    return min(metric(ti, tj) for ti in cluster1 for tj in cluster2)\n",
    "    \n",
    "def dunn_index(clusters, metric):\n",
    "    numerator = min(intercluster_distance(c1, c2, metric) for (c1, c2) in combinations(clusters, 2))\n",
    "    denominator = max(cluster_size(cluster, metric) for cluster in clusters)\n",
    "    return numerator / denominator\n"
   ]
  },
  {
   "attachments": {},
   "cell_type": "markdown",
   "metadata": {},
   "source": [
    "### Czy to w ogóle działa?\n",
    "\n",
    "Poniżej sprawdzę czy zaimplementowane przezemnie metody klasteryzacji dają sensowne wyniki. Dla indeksu Daviesa im lepsza klasteryzacja tym mniejszy wynik funkcji oceniającej, w przeciwieństwie do indeksu Dunna gdzie im lepsza klasteryzacja tym większy wynik."
   ]
  },
  {
   "attachments": {},
   "cell_type": "markdown",
   "metadata": {},
   "source": [
    "1. Słaba klasteryzacja - teksty nie są za bardzo podobne do siebie"
   ]
  },
  {
   "cell_type": "code",
   "execution_count": 52,
   "metadata": {},
   "outputs": [
    {
     "name": "stdout",
     "output_type": "stream",
     "text": [
      "Davies-Bouldin index, lcs:  1.6588014978165446\n",
      "Dunn index, lcs:  0.5555555555555555\n",
      "Davies-Bouldin index, euclidean:  1.5393580236310427\n",
      "Dunn index, euclidean:  0.6831300510639733\n"
     ]
    }
   ],
   "source": [
    "c = [[\"alamakot\", \"piesjemleko\", \"spaniefajnejest\"],\n",
    "     [\"alkotomat\", \"mieszanie\", \"ciastko waniliowe\"],\n",
    "     [\"lubie szarlotke\", \"ale jabłka muszą być dobre\"]]\n",
    "print(\"Davies-Bouldin index, lcs: \", davies_bouldin_index(c, lcs))\n",
    "print(\"Dunn index, lcs: \", dunn_index(c,lcs))\n",
    "\n",
    "print(\"Davies-Bouldin index, euclidean: \", davies_bouldin_index(c, euclidean_distance))\n",
    "print(\"Dunn index, euclidean: \", dunn_index(c,euclidean_distance))"
   ]
  },
  {
   "attachments": {},
   "cell_type": "markdown",
   "metadata": {},
   "source": [
    "2. Lepsza klasteryzacja - teksty w klastrach są bardziej zbliżone do siebie"
   ]
  },
  {
   "cell_type": "code",
   "execution_count": 53,
   "metadata": {},
   "outputs": [
    {
     "name": "stdout",
     "output_type": "stream",
     "text": [
      "Davies-Bouldin index, lcs:  0.8321434903110966\n",
      "Dunn index, lcs:  1.1259259259259258\n",
      "Davies-Bouldin index, euclidean:  0.899257071215224\n",
      "Dunn index, euclidean:  1.1896993802573046\n"
     ]
    }
   ],
   "source": [
    "c = [[\"alamakot\", \"ala ma kota\", \"ala nie ma kota\"],\n",
    "     [\"ciasto wanilinowe\", \"ciastko tiramisu waniliowe\", \"ciastko waniliowe\"],\n",
    "     [\"lubie szarlotke\", \"szarlotka szarlotka\"]]\n",
    "print(\"Davies-Bouldin index, lcs: \", davies_bouldin_index(c, lcs))\n",
    "print(\"Dunn index, lcs: \", dunn_index(c,lcs))\n",
    "\n",
    "print(\"Davies-Bouldin index, euclidean: \", davies_bouldin_index(c, euclidean_distance))\n",
    "print(\"Dunn index, euclidean: \", dunn_index(c,euclidean_distance))"
   ]
  },
  {
   "attachments": {},
   "cell_type": "markdown",
   "metadata": {},
   "source": [
    "3. Słaba klasteryzacja - klastry są podobne do siebie"
   ]
  },
  {
   "cell_type": "code",
   "execution_count": 54,
   "metadata": {},
   "outputs": [
    {
     "name": "stdout",
     "output_type": "stream",
     "text": [
      "Davies-Bouldin index, lcs:  2.480104415122002\n",
      "Dunn index, lcs:  0.40625\n",
      "Davies-Bouldin index, euclidean:  1.769539479896063\n",
      "Dunn index, euclidean:  0.4364357804719848\n"
     ]
    }
   ],
   "source": [
    "c = [[\"alamakot\", \"ala ma kota\", \"ala nie ma kota\"],\n",
    "     [\"ala alkota ma\", \"ala kot\", \"kot ala\"],\n",
    "     [\"alkomat\", \"ala z kotem\"]]\n",
    "print(\"Davies-Bouldin index, lcs: \", davies_bouldin_index(c, lcs))\n",
    "print(\"Dunn index, lcs: \", dunn_index(c,lcs))\n",
    "\n",
    "print(\"Davies-Bouldin index, euclidean: \", davies_bouldin_index(c, euclidean_distance))\n",
    "print(\"Dunn index, euclidean: \", dunn_index(c,euclidean_distance))"
   ]
  },
  {
   "attachments": {},
   "cell_type": "markdown",
   "metadata": {},
   "source": [
    "4. Lepsza klasteryzacja - klastry nie są podobne do siebie"
   ]
  },
  {
   "cell_type": "code",
   "execution_count": 55,
   "metadata": {},
   "outputs": [
    {
     "name": "stdout",
     "output_type": "stream",
     "text": [
      "Davies-Bouldin index, lcs:  1.438059209240504\n",
      "Dunn index, lcs:  1.0\n",
      "Davies-Bouldin index, euclidean:  1.5236033621142735\n",
      "Dunn index, euclidean:  1.0\n"
     ]
    }
   ],
   "source": [
    "c = [[\"alamakot\", \"trwonić\"],\n",
    "     [\"xxxxz\", \"zzzzzzz\", \"ssssss\"],\n",
    "     [\"cccccc\", \"dddddd\"]]\n",
    "print(\"Davies-Bouldin index, lcs: \", davies_bouldin_index(c, lcs))\n",
    "print(\"Dunn index, lcs: \", dunn_index(c,lcs))\n",
    "\n",
    "print(\"Davies-Bouldin index, euclidean: \", davies_bouldin_index(c, euclidean_distance))\n",
    "print(\"Dunn index, euclidean: \", dunn_index(c,euclidean_distance))"
   ]
  },
  {
   "attachments": {},
   "cell_type": "markdown",
   "metadata": {},
   "source": [
    "Wygląda na to, że metody oceniania klasteryzacji działają poprawnie, a przynajmniej dają oczekiwane względne wyniki"
   ]
  },
  {
   "attachments": {},
   "cell_type": "markdown",
   "metadata": {},
   "source": [
    "## Stoplista\n",
    "3. Stwórz stoplistę najczęściej występujących słów i zastosuj ją jako pre-processing dla nazw. Algorytmy klasteryzacji powinny działać na dwóch wariantach: z pre-processingiem i bez pre-processingu.\n",
    "\n",
    "\n",
    "Znajduję częstość słów w klasteryzowanym tekści i zwracam pewien procent najpopularniejszych słów"
   ]
  },
  {
   "cell_type": "code",
   "execution_count": 164,
   "metadata": {},
   "outputs": [],
   "source": [
    "def stoplist(text, frequency): # frequency from interval [0, 1]\n",
    "    words = [word for line in text for word in line.split(' ')]\n",
    "    words = list(Counter(words).items())\n",
    "    words.sort(key=lambda x:x[1])\n",
    "    # print(words)\n",
    "    words = list(map(lambda x : x[0], words))\n",
    "    \n",
    "    # print(words)\n",
    "    \n",
    "    words = words[-int(frequency * len(words)):]\n",
    "    # print(words)\n",
    "    \n",
    "    return words\n"
   ]
  },
  {
   "attachments": {},
   "cell_type": "markdown",
   "metadata": {},
   "source": [
    "### Preprocessing tekstu\n",
    "\n",
    "Tekst przed użyciem w metrykach jest konwertowany na małe litery, a także usuwane są znaki interpunkcyjne (o ile będziemy tego chciali użyć w programie, ja chyba będę chciał).\n"
   ]
  },
  {
   "cell_type": "code",
   "execution_count": 165,
   "metadata": {},
   "outputs": [],
   "source": [
    "def preprocess_punctuation(text):\n",
    "    out = []\n",
    "    for l in text:\n",
    "        lowercase_text = l.lower()\n",
    "    \n",
    "        out.append(lowercase_text.translate(str.maketrans('', '', string.punctuation)))\n",
    "    \n",
    "    return out\n"
   ]
  },
  {
   "cell_type": "code",
   "execution_count": 166,
   "metadata": {},
   "outputs": [
    {
     "data": {
      "text/plain": [
       "['the quick brown fox jumps over the lazy dog 123456789com']"
      ]
     },
     "execution_count": 166,
     "metadata": {},
     "output_type": "execute_result"
    }
   ],
   "source": [
    "example_text = [\"The quIck brown $fox j:umPs OV@er the lazy !doG. 123456789.com\"]\n",
    "preprocess_punctuation(example_text)"
   ]
  },
  {
   "cell_type": "code",
   "execution_count": 167,
   "metadata": {},
   "outputs": [],
   "source": [
    "def preprocess_stoplist(text, frequency):\n",
    "    to_remove = stoplist(text, frequency)\n",
    "    out = []\n",
    "    for l in text:\n",
    "        out.append(\" \".join([w for w in l.split(\" \") if w not in to_remove]))\n",
    "    return out"
   ]
  },
  {
   "cell_type": "code",
   "execution_count": 168,
   "metadata": {},
   "outputs": [],
   "source": [
    "def preprocess_all(text, frequency):\n",
    "    text = preprocess_punctuation(text)\n",
    "    return preprocess_stoplist(text, frequency)\n",
    "    "
   ]
  },
  {
   "attachments": {},
   "cell_type": "markdown",
   "metadata": {},
   "source": [
    "### Wczytanie tekstu"
   ]
  },
  {
   "cell_type": "code",
   "execution_count": 169,
   "metadata": {},
   "outputs": [
    {
     "name": "stdout",
     "output_type": "stream",
     "text": [
      "/11692589 RD TUNA CANNERS, LTD. PORTION 1004, SIAR NORTH COAST ROAD, P.O.BOX 2113, MADANG, PAPUA NEW GUINEA\n",
      "''PA INTERIOR'' LTD BOLSHAYA LUBYANKA STREET, 16/4 MOSCOW, 101000, RUSSIA INN/KPP 7704550148//770801001 495-984-8611\n",
      "''SSONTEX''  Sp.ZO.O.IMPORT-EXPORTUL:PRZECLAWSKA 5 03-879 WARSZAWA,POLAND NIP 113-01-17-669\n",
      "''SSONTEX''SP.ZO.O.IMPORT-EXPORT UL:PRZECLAWSKA 5 03-879 WARSZAWA,POLAND NIP 113-01-17-669 TEL./FAX.:0048(022)217 6532--\n",
      "''TOPEX SP. Z O.O.'' SPOLKA KOMANDYTOWA UL. POGRANICZNA 2/4  02-285 WARSZAWA POLAND\n",
      "'MASTER PLUS CO.,LTD.' 143000,RUSSIA,MO,ODINSOVO, MOJAISKOE, SHOSSE,153G TEL:+7495 7273939\n",
      "\"2TIGERS GROUP LIMITED\"  ROOM 504 JINSHAZHOU SHANGSHUI ROAD,  GUANGZHOU 510160\n",
      "\"ALDETRANS\" LLC, 105066, MOSCOW, RUSSIA, TOKMAKOV LANE, 11. TEL:+7(495)641-03-89\n",
      "\"A-LIFT\",JSC 1 PROSPEKT MARSHALA ZHUKOVA,MOSCOW 123308,RUSSIA  T: +7(495)784-7961\n",
      "\"ALISA\" LTD, 1/5 Derbenevskaya str., Moscow, Russia Tel./Fax: (495) 987-13-07 postal code: 115114\n"
     ]
    }
   ],
   "source": [
    "with open(\"lines.txt\", \"r\", encoding=\"UTF-8\") as f:\n",
    "    text = f.read().split(\"\\n\")\n",
    "\n",
    "for el in text[:10]: print(el)"
   ]
  },
  {
   "attachments": {},
   "cell_type": "markdown",
   "metadata": {},
   "source": [
    "### Test preprocessingu"
   ]
  },
  {
   "cell_type": "code",
   "execution_count": 170,
   "metadata": {},
   "outputs": [
    {
     "name": "stdout",
     "output_type": "stream",
     "text": [
      "['LTD,', '190020', 'SAME', 'NANJING', '6,', 'C/O', 'IKEA', 'Sp.', '32', '19', 'C', 'PRODUCTS', '424', '6', '66', 'KOTKA', 'PLAZA,', 'TOWN', 'GEODIS', 'LIT.', 'ST.PETERSBURG,', 'SDN', 'ZONE', 'LINES', '18', '3,', 'TOWER,', 'LOGISTIC', 'GERMANY', 'AIR', '660', '70', 'KUEHNE&NAGEL', 'SP.ZO.O.', 'ZONE,', 'EXPORT', 'SCAN', '39', 'SAMSUNG', '190020,', '82', 'EXPEDITION', 'ST.PETERSBURG', 'GDYNIA,POLAND', 'HANGZHOU', 'BENE', 'LIFLYANDSKAYA', 'CENTRE', 'TIANJIN', '83', 'ATTN:', 'INDIA', 'PANTOS', 'RUS', 'CN', 'TRANSPORT', 'CONTACT', 'ul.', 'PLAZA', 'SERVICES', 'KOREA', 'IMPORT&EXPORT', 'TRANS', 'PVT', '310', '37', '17', 'IMPORT', 'CENTER', 'JIANGSU', 'NAGEL', '621', 'O', 'SAVINO', 'STR.', '448', '13', 'OCEAN', 'KUEHNE', 'CO.', 'HONGKONG', '495', 'PARK', 'ELECTRONICS', 'PETERSBURG', '50', 'PHONE:', 'DEL', '12', 'SA', 'Poland', '2,', '21', 'SPOLKA', 'VIETNAM', 'DEVELOPMENT', 'TEL.', 'UL', 'SP.Z.O.O.', 'PANTAINER', '.', 'FEDERATION', 'AIR&SEA', '10', 'GDYNIA,', 'DSV', '31', '/', 'VANTAA', '44', 'B', 'SAINT', 'TEL:+7', 'HELSINKI', 'BLDG', '00', '(CHINA)', 'ZIP', 'BLUE', 'ANCHOR', 'ZHONGSHAN', 'NEW', 'FORWARD', 'UNIT', 'GUANGZHOU', 'SAINT-PETERSBURG,', '4', 'INDONESIA', 'NORTH', 'MERITUULENTIE', 'BOX', 'FLOOR,', 'RM', '20', '1,', 'ST.', 'CITY,', 'O/B', 'FMG', 'PL', 'Z.O.O.', 'RD', 'WEST', '7', 'FAX:+48', 'INN', '(812)', 'TEL:+48', '8', ',', 'A,', 'NO', 'THAILAND', 'FOR', 'DISTRICT', 'DHL', 'RUSSIAN', 'FLOOR', 'PETERSBURG,', 'WORLD', 'BUILDING,', 'A', 'INDUSTRY', 'XIAMEN', 'INTL', 'GROUP', '11', 'SP', 'DISTRICT,', 'CARGO', 'STREET', 'QINGDAO', 'FREIGHT', 'PANALPINA', 'CITY', 'EORI', 'SOUTH', 'BUSINESS', '9', 'TOWER', 'NO.', 'STREET,', 'FAX', 'LINE', 'THE', '48', 'TAIWAN', 'DAMCO', 'EAST', 'ZHEJIANG', '+358', 'STR.,', 'SP.Z', '2', 'TRADE', 'BEHALF', 'SCHENKER', 'MOSCOW', '5', 'TRADING', 'ON', '3', 'POLSKA', 'MOSCOW,', '+', 'S.A.', 'WARSZAWA', 'RUSSIA,', '1', 'BUILDING', '812', 'HONG', 'SHIPPING', 'TEL', 'KONG', 'COMPANY', 'SHENZHEN', '+7', 'AGENT', '22', 'BRANCH', 'NINGBO', '-', 'TO', 'GLOBAL', 'ROOM', 'FORWARDING', 'OFFICE', 'LLC', 'ORDER', 'INDUSTRIAL', 'AS', 'OOO', ':', 'SHANGHAI', 'CO.,', 'FINLAND', '+48', 'CO', 'O.O.', 'OY', 'Z', 'GDYNIA', 'CO.,LTD', 'SP.', 'AND', 'CO.,LTD.', 'RUSSIA', 'FAX:', 'INTERNATIONAL', 'ROAD,', 'ROAD', 'LIMITED', 'TEL:', '58', 'UL.', 'LTD.', 'OF', 'POLAND', 'LTD', 'LOGISTICS', 'CHINA', '']\n"
     ]
    }
   ],
   "source": [
    "print(stoplist(text, 0.01))"
   ]
  },
  {
   "attachments": {},
   "cell_type": "markdown",
   "metadata": {},
   "source": [
    "usuwanie punktuacji"
   ]
  },
  {
   "cell_type": "code",
   "execution_count": 171,
   "metadata": {},
   "outputs": [
    {
     "name": "stdout",
     "output_type": "stream",
     "text": [
      "11692589 rd tuna canners ltd portion 1004 siar north coast road pobox 2113 madang papua new guinea\n",
      "pa interior ltd bolshaya lubyanka street 164 moscow 101000 russia innkpp 7704550148770801001 4959848611\n",
      "ssontex  spzooimportexportulprzeclawska 5 03879 warszawapoland nip 1130117669\n",
      "ssontexspzooimportexport ulprzeclawska 5 03879 warszawapoland nip 1130117669 telfax0048022217 6532\n",
      "topex sp z oo spolka komandytowa ul pograniczna 24  02285 warszawa poland\n",
      "master plus coltd 143000russiamoodinsovo mojaiskoe shosse153g tel7495 7273939\n",
      "2tigers group limited  room 504 jinshazhou shangshui road  guangzhou 510160\n",
      "aldetrans llc 105066 moscow russia tokmakov lane 11 tel74956410389\n",
      "aliftjsc 1 prospekt marshala zhukovamoscow 123308russia  t 74957847961\n",
      "alisa ltd 15 derbenevskaya str moscow russia telfax 495 9871307 postal code 115114\n"
     ]
    }
   ],
   "source": [
    "for el in preprocess_punctuation(text)[:10]: print(el)"
   ]
  },
  {
   "attachments": {},
   "cell_type": "markdown",
   "metadata": {},
   "source": [
    "usuwanie ze stoplisty"
   ]
  },
  {
   "cell_type": "code",
   "execution_count": 172,
   "metadata": {},
   "outputs": [
    {
     "name": "stdout",
     "output_type": "stream",
     "text": [
      "/11692589 TUNA CANNERS, PORTION 1004, SIAR COAST P.O.BOX 2113, MADANG, PAPUA GUINEA\n",
      "''PA INTERIOR'' BOLSHAYA LUBYANKA 16/4 101000, INN/KPP 7704550148//770801001 495-984-8611\n",
      "''SSONTEX'' Sp.ZO.O.IMPORT-EXPORTUL:PRZECLAWSKA 03-879 WARSZAWA,POLAND NIP 113-01-17-669\n",
      "''SSONTEX''SP.ZO.O.IMPORT-EXPORT UL:PRZECLAWSKA 03-879 WARSZAWA,POLAND NIP 113-01-17-669 TEL./FAX.:0048(022)217 6532--\n",
      "''TOPEX O.O.'' KOMANDYTOWA POGRANICZNA 2/4 02-285\n",
      "'MASTER PLUS CO.,LTD.' 143000,RUSSIA,MO,ODINSOVO, MOJAISKOE, SHOSSE,153G TEL:+7495 7273939\n",
      "\"2TIGERS LIMITED\" 504 JINSHAZHOU SHANGSHUI 510160\n",
      "\"ALDETRANS\" LLC, 105066, TOKMAKOV LANE, 11. TEL:+7(495)641-03-89\n",
      "\"A-LIFT\",JSC PROSPEKT MARSHALA ZHUKOVA,MOSCOW 123308,RUSSIA T: +7(495)784-7961\n",
      "\"ALISA\" 1/5 Derbenevskaya str., Moscow, Russia Tel./Fax: (495) 987-13-07 postal code: 115114\n"
     ]
    }
   ],
   "source": [
    "for el in preprocess_stoplist(text, 0.01)[:10]: print(el)"
   ]
  },
  {
   "cell_type": "code",
   "execution_count": 173,
   "metadata": {},
   "outputs": [
    {
     "name": "stdout",
     "output_type": "stream",
     "text": [
      "11692589 tuna canners portion 1004 siar coast 2113 madang papua guinea\n",
      "pa interior bolshaya lubyanka 164 101000 innkpp 7704550148770801001 4959848611\n",
      "ssontex spzooimportexportulprzeclawska 03879 warszawapoland nip 1130117669\n",
      "ssontexspzooimportexport ulprzeclawska 03879 warszawapoland nip 1130117669 telfax0048022217 6532\n",
      "topex komandytowa pograniczna 24 02285\n",
      "master plus 143000russiamoodinsovo mojaiskoe shosse153g tel7495 7273939\n",
      "2tigers 504 jinshazhou shangshui 510160\n",
      "aldetrans 105066 tokmakov lane tel74956410389\n",
      "aliftjsc prospekt marshala zhukovamoscow 123308russia t 74957847961\n",
      "alisa derbenevskaya 9871307 postal code 115114\n"
     ]
    }
   ],
   "source": [
    "for el in preprocess_all(text, 0.01)[:10]: print(el)"
   ]
  },
  {
   "attachments": {},
   "cell_type": "markdown",
   "metadata": {},
   "source": [
    "### Klasteryzacja"
   ]
  },
  {
   "attachments": {},
   "cell_type": "markdown",
   "metadata": {},
   "source": [
    "4. Wykonaj klasteryzację zawartości załączonego pliku (lines.txt) przy użyciu  metryk zaimplementowanych w pkt. 1. Każda linia to adres pocztowy firmy, różne sposoby zapisu tego samego adresu powinny się znaleźć w jednym klastrze."
   ]
  },
  {
   "cell_type": "code",
   "execution_count": 174,
   "metadata": {},
   "outputs": [],
   "source": [
    "def clusterize(text, metric, eps=0.6, preprocess=True, frequency=0.02):\n",
    "    if preprocess:\n",
    "        text = preprocess_all(text, frequency)\n",
    "    dist = [[metric(la, lb) for la in text] for lb in text]\n",
    "    clust = sklearn.cluster.DBSCAN(eps=eps, min_samples=1).fit(dist)\n",
    "    return clust.labels_\n",
    "\n",
    "def text_clusters(text, metric, eps=0.6, preprocess=True, frequency=0.02):\n",
    "    labels = clusterize(text, metric, eps, preprocess=preprocess, frequency=frequency)\n",
    "    clusters = [[] for _ in range(max(labels) + 1)]\n",
    "    for idx, cl in enumerate(labels):\n",
    "        clusters[cl].append(text[idx])\n",
    "    return clusters\n",
    "\n",
    "def clusters_from_labels(text, labels):\n",
    "    clusters = [[] for _ in range(max(labels) + 1)]\n",
    "    for idx, cl in enumerate(labels):\n",
    "        clusters[cl].append(text[idx])\n",
    "    return clusters"
   ]
  },
  {
   "attachments": {},
   "cell_type": "markdown",
   "metadata": {},
   "source": [
    "## Testowanie\n",
    "5. Porównaj jakość wyników sposobami zaimplementowanymi w pkt. 2.\n",
    "\n",
    "\n",
    "Na początek spróbuję zwizualizować czy klasteryzacja działa.\n",
    "\n",
    "Jako że algorytmy tutaj używane mają złożoność $O(n^2)$ - gdzie n to długość linijki (np. lcs) i są powtarzane po $O(m^2)$ razy, to sklasteryzowanie wszystkich linijek z pliku lines.txt zajmuje dużo czasu. Dlatego będę korzystać z pierwszych 150 linii załączonego pliku."
   ]
  },
  {
   "cell_type": "code",
   "execution_count": 175,
   "metadata": {},
   "outputs": [
    {
     "name": "stdout",
     "output_type": "stream",
     "text": [
      "[  0   1   2   2   3   4   5   6   7   8   9  10  11  11  11  11  12  12\n",
      "  12  13  13  14  15  15  16  17  18  19  19  20  21  22  23  23  24  25\n",
      "  26  27  28  29  30  31  32  33  34  35  36  37  38  38  39  40  40  40\n",
      "  41  42  41  42  43  43  43  43  43  43  44  45  46  47  48  48  49  50\n",
      "  51  52  53  54  55  56  57  58  59  60  61  62  62  63  64  65   2  66\n",
      "  67  68  69  70  71  72  73  73  73  73  73  74  75   3   3   3   3   3\n",
      "  76   3   3  77   3   3  78  79  80  80  80  81  82  83  84  84  85  86\n",
      "  87  88  89  90  91  92  93  94  95  96  97  98  99  99 100 101 102 102\n",
      " 102 102 102 102 102 103]\n"
     ]
    }
   ],
   "source": [
    "text = text[:150]\n",
    "test_labels = clusterize(text, dice)\n",
    "print(test_labels)\n"
   ]
  },
  {
   "cell_type": "code",
   "execution_count": 176,
   "metadata": {},
   "outputs": [
    {
     "name": "stdout",
     "output_type": "stream",
     "text": [
      "/11692589 RD TUNA CANNERS, LTD. PORTION 1004, SIAR NORTH COAST ROAD, P.O.BOX 2113, MADANG, PAPUA NEW GUINEA\n",
      "\n",
      "##########\n",
      "\n",
      "''PA INTERIOR'' LTD BOLSHAYA LUBYANKA STREET, 16/4 MOSCOW, 101000, RUSSIA INN/KPP 7704550148//770801001 495-984-8611\n",
      "\n",
      "##########\n",
      "\n",
      "''SSONTEX''  Sp.ZO.O.IMPORT-EXPORTUL:PRZECLAWSKA 5 03-879 WARSZAWA,POLAND NIP 113-01-17-669\n",
      "''SSONTEX''SP.ZO.O.IMPORT-EXPORT UL:PRZECLAWSKA 5 03-879 WARSZAWA,POLAND NIP 113-01-17-669 TEL./FAX.:0048(022)217 6532--\n",
      "\"SSONTEX\" SP.ZO.O IMPORT-EXPORT 03-879 WARSZAWA UL PRZECLAWSKA 5 NIP:113-01-17-669\n",
      "\n",
      "##########\n",
      "\n",
      "''TOPEX SP. Z O.O.'' SPOLKA KOMANDYTOWA UL. POGRANICZNA 2/4  02-285 WARSZAWA POLAND\n",
      "\"TOPEX SP.Z.O.O.\"SP.K. UL.POGRANICZNA 2/4, 02-285 WARSZAWA.POLAND\n",
      "\"TOPEX SP.Z.O.O.\"SP.K. UL.POGRANICZNA 2/4,02-285 WARSZAWA POLAND\n",
      "\"TOPEX SP.Z O.O.\"SP.K. UL,POGRANICZNA 2/4 02-285 WARSZAWA\n",
      "\"TOPEX SP.Z O.O.\"SP.K. UL.POGRANICZNA 2/4,02--285 WARSZAWA\n",
      "\"TOPEX SP. Z O. O.\" SP. K. UL.POGRANICZNA 2/4,02-285 WARSZAWA,POLAND\n",
      "\"TOPEX SP.Z O.O.\"SP.K. UL.POGRANICZNA 2/4 02-285 WARSZAWA POLAND\n",
      "\"TOPEX SP. Z O.O.\" SP.K. UL.POGRANICZNA 2/4 02-285 WARSZAWA POLAND\n",
      "\"TOPEX SP.ZO.O.\"SPOLKA  KOMANDYTOWAUL.POGRANICZNA 2/4 02-285  WARSZAWA POLAND\n",
      "\"TOPEX SP.ZO.O.\" SPOLKA KOMANDYTOWAUL.POGRANICZNA 2/4  02-285 WARSZAWA POLAND\n",
      "\n",
      "##########\n",
      "\n",
      "'MASTER PLUS CO.,LTD.' 143000,RUSSIA,MO,ODINSOVO, MOJAISKOE, SHOSSE,153G TEL:+7495 7273939\n",
      "\n",
      "##########\n",
      "\n",
      "\"2TIGERS GROUP LIMITED\"  ROOM 504 JINSHAZHOU SHANGSHUI ROAD,  GUANGZHOU 510160\n",
      "\n",
      "##########\n",
      "\n",
      "\"ALDETRANS\" LLC, 105066, MOSCOW, RUSSIA, TOKMAKOV LANE, 11. TEL:+7(495)641-03-89\n",
      "\n",
      "##########\n",
      "\n",
      "\"A-LIFT\",JSC 1 PROSPEKT MARSHALA ZHUKOVA,MOSCOW 123308,RUSSIA  T: +7(495)784-7961\n",
      "\n",
      "##########\n",
      "\n",
      "\"ALISA\" LTD, 1/5 Derbenevskaya str., Moscow, Russia Tel./Fax: (495) 987-13-07 postal code: 115114\n",
      "\n",
      "##########\n",
      "\n",
      "\"ALLIANCE-TRADE\" LLC INN: 7816391055 / KPP: 784601001 190020, Saint Petersburg, quay of the Obvodny channel, 138, bulk 1, liter.B\n",
      "\n",
      "##########\n",
      "\n",
      "\"ALTAIR\" LIMITED COMPANY 199004,SAINT-PETERSBURG, 1 LINE,H.20 LIT A,OF.8-H\n",
      "\n",
      "##########\n",
      "\n",
      "\"ARIVIST\", 198035,RUSSIA,SAINT-PETERSBURG, GAPSALSKAYA STR.,5,OFFICE 1-3; TEL:+78123277732,FAX:+781 23277729.VOLOKNO@YAHOO.COM\n",
      "\"ARIVIST\", 198035,RUSSIA,SAINT-PETERSBURG, GAPSALSKAYA STR.,5,OFFICE 1-3; TEL.:+78123277732,FAX+ 78123277729.\n",
      "\"ARIVIST\", 198035,RUSSIA,SAINT-PETERSBURG,  GAPSALSKAYA STR.,5,OFFICE1-3; TEL.:+78123277732,FAX+ 78123277729.\n",
      "\"ARIVIST\", 198035,RUSSIA,SAINT-PETERSBURG,  GAPSALSKAYA STR.,5,OFFICE1-3; TEL.:+78123277732,FAX + 78123277729.\n",
      "\n",
      "##########\n",
      "\n",
      "\"ARIVIST\", 198035, RUSSIA,  SAINT-PETERSBURG,  GAPSALSKAYA STR.,5,OFFICE1-3;  TEL.+78123277732, FAX  +78123277729.\n",
      "\"ARIVIST\", 198035, RUSSIA, SAINT-PETERSBURG, GAPSALSKAYA STR.,5, OFFICE1-3; TEL.+78123277732, FAX +78123277729. VOLOKNO@YAHOO.COM\n",
      "\"ARIVIST\", 198035, RUSSIA, SAINT-PETERSBURG. GAPSALSKAYA STR.,5. OFFICE1-3; TEL.+78123277732, FAX+78123277729. VOLOKNO@YAHOO.COM\n",
      "\n",
      "##########\n",
      "\n",
      "\"AVANPORT\"  LLC INN: 7839413675 KPP: 783901001 190020, SAINT PETERSBURG, QUAY OF THE OBVODNY CHANNEL, 134-136-138, BUILD. 101, LIT. A\"\n",
      "\"AVANPORT\"  LLC INN: 7839413675 KPP: 783901001 190020, SAINT PETERSBURG, QUAY OF  THE OBVODNY CHANNEL,134-136-138,  BUILD. 101, LIT. A\"\n",
      "\n",
      "##########\n",
      "\n",
      "\"AVENTA\"LTD. ADDRESS:129 110,MOSCOW,PROSPEKT MIRA,H.52,STR.3,POM,III Tel: 8-968-808-80-11\n",
      "\n",
      "##########\n",
      "\n",
      "\"AVSON-GROUP\" COMPANY LIMITED 190008, ST. PETERSBURG,  RIMSKOGO-KORSAKOVA,  73/33, LIT. A-1\n",
      "\"Avson-group\" Company Limited  190008, St. Petersburg, Rimskogo-Korsakova, 73/33, lit. A-1\n",
      "\n",
      "##########\n",
      "\n",
      "\"BIO plus LTD\" INN 7805166210 198303, S-Petersburg, Leninskiy Pr.,110/1, lit B, app.53-H, RUSSIA\n",
      "\n",
      "##########\n",
      "\n",
      "\"CARGOIMPORT\" LTD VNUKOVSKAYA STREET, BUILDING 2, R.43-H-1, SAINT-PETERSBURG, RUSSIA .\n",
      "\n",
      "##########\n",
      "\n",
      "\"COLOS\"COMPLEX LOGISTICS,SOLUTIONSPIOTR KACZMAREK I PAWEL WILK SP.J.ZACHODNIA STREET NO 3 55-011 SIECHNICE POLAND\n",
      "\n",
      "##########\n",
      "\n",
      "\"ELECTROGROUP\" (OOO),190068.RUSSIA,SAINT-PETERSBURG,UL.BOLSHAYA PODYACHESKAYA,5,LIT.A,POM.4-N\n",
      "\"ELECTROGROUP\" (OOO),190068.RUSSIA,SAINT-PETERSBURG,UL.BOLSHAYA  PODYACHESKAYA,5,LIT.A,POM.4-N\n",
      "\n",
      "##########\n",
      "\n",
      "\"ELEKTROAPPARAT\" PLC   24th LiniyaV.O.,St.Petersburg. Sup.office No.1of Kirovsky RUSSIA TEL: 0079-219646264\n",
      "\n",
      "##########\n",
      "\n",
      "\"ENS\" LTD ADDRESS: STAROPETROVSKIYPASSAGE, BLD 7A,  CONSTRUCTION 3 125130, MOSCOW, RUSSIA TEL: (499) 130-7336\n",
      "\n",
      "##########\n",
      "\n",
      "\"EVROTRANSIT\" LLC 105005, RUSSIAN FEDERATION, MOSCOW, BAUMANSKAYA STR., 33/2, BLD.1 E-MAIL:EVROTRANZIT-LOGL@INBOX.RU TEL:8-495-665-34-68\n",
      "\n",
      "##########\n",
      "\n",
      "\"EXPRESS CO. LTD.\" RUSSIA 155101 IVANOVSKAYA REGION, LEZHNEVSKIY RAION, D. KOROVIHA, CENTRALNAYA STR. 4ARUSSIA\n",
      "\"EXPRESS CO. LTD.\"  RUSSIA 155101 IVANOVSKAYA REGION, LEZHNEVSKIY RAION, D. KOROVIHA, CENTRALNAYA STR. 4ARUSSIA\n",
      "\n",
      "##########\n",
      "\n",
      "\"FILITA\" LTD, UKRAINE, 83004, DONETSK, ARTEMA STR. 193G    TEL/FAX:+380563705563\n",
      "\n",
      "##########\n",
      "\n",
      "\"FILLOGISTIK\" PP ZHOVKIVSKA 22 STREET 79019 LVOV,UKRAINE TEL:+380322458030 FAX:+380322458030\n",
      "\n",
      "##########\n",
      "\n",
      "\"FINANS AKTIV\",LTD. 111250,RUSSIA,MOSCOW, KRASNOKAZARMENNAYA STR.11+7495 665 6001\n",
      "\n",
      "##########\n",
      "\n",
      "\"FMG SHIPPING AND FORWARDING, LTD.\"190020, SAINT PETERSBURG,LIFLYANDSKAYA STR., 6,LITERA \"A\",BUILDING 31H,OFFICE 310 POST CODE:190020 TEL:+7 812 448 82 83 FAX:+7 812 448 04 9\n",
      "\n",
      "##########\n",
      "\n",
      "\"FMG SHIPPING AND FORWARDING, LTD.\"190020 ST.PETERSBURG, RUSSIA BUMAZHNAYA STR., 18, OFF. 310\n",
      "\n",
      "##########\n",
      "\n",
      "\"FORWARD EXPEDITION LIMITED HKG\" SUCCES COMM.BLDG.,6B,251, HENNESSY ROAD, HONGKONG ARRIVAL@FORWARD-HKG.COM\n",
      "\n",
      "##########\n",
      "\n"
     ]
    }
   ],
   "source": [
    "test_clusters = text_clusters(text, dice)\n",
    "for cluster in test_clusters[:30]:\n",
    "    for line in cluster:\n",
    "        print(line)\n",
    "    print(\"\\n\" + \"#\"*10 + \"\\n\")"
   ]
  },
  {
   "attachments": {},
   "cell_type": "markdown",
   "metadata": {},
   "source": [
    "#### Klasteryzacja rzeczywiście działa przy wybranej metryce, chociaż zdarzają się pojedyncze błędy"
   ]
  },
  {
   "cell_type": "code",
   "execution_count": 177,
   "metadata": {},
   "outputs": [],
   "source": [
    "def get_correct_clusters(text):\n",
    "    with open('clusters.txt', 'r') as f:\n",
    "        clusters = list(f)\n",
    "    # print(clusters)\n",
    "    correct_clusters = []\n",
    "    for line in text:\n",
    "        line += \"\\n\"\n",
    "        c = 0\n",
    "        for cline in clusters:\n",
    "            if cline[0] == \"#\":\n",
    "                c += 1\n",
    "            elif cline == line:\n",
    "                correct_clusters.append(c)\n",
    "                break\n",
    "    mappp = {}\n",
    "    idx =0\n",
    "    for i in correct_clusters:\n",
    "        if i not in mappp.keys():\n",
    "            mappp[i] = idx\n",
    "            idx += 1\n",
    "    out = []\n",
    "    for el in correct_clusters:\n",
    "        out.append(mappp[el])\n",
    "    return np.array(out)"
   ]
  },
  {
   "cell_type": "code",
   "execution_count": 178,
   "metadata": {},
   "outputs": [
    {
     "data": {
      "text/plain": [
       "array([ 0,  1,  2,  2,  3,  4,  5,  6,  7,  8,  9, 10, 11, 11, 11, 11, 11,\n",
       "       11, 11, 12, 12, 13, 14, 14, 15, 16, 17, 18, 18, 19, 20, 21, 22, 22,\n",
       "       23, 24, 25, 26, 27, 28, 29, 29, 30, 31, 32, 33, 34, 35, 36, 36, 37,\n",
       "       38, 38, 38, 39, 39, 39, 39, 40, 40, 40, 40, 40, 40, 41, 41, 41, 42,\n",
       "       42, 42, 43, 44, 45, 46, 47, 48, 49, 50, 51, 52, 53, 54, 55, 56, 56,\n",
       "       57, 58, 59,  2, 60, 61, 62, 63, 64, 63, 64, 65, 65, 65, 65, 65, 66,\n",
       "       67,  3,  3,  3,  3,  3,  3,  3,  3,  3,  3,  3, 68, 69, 70, 70, 70,\n",
       "       71, 72, 73, 74, 74, 75, 76, 77, 78, 79, 80, 81, 82, 83, 84, 85, 86,\n",
       "       87, 88, 89, 89, 90, 91, 27, 27, 26, 26, 26, 26, 26, 92])"
      ]
     },
     "execution_count": 178,
     "metadata": {},
     "output_type": "execute_result"
    }
   ],
   "source": [
    "correct_labels = get_correct_clusters(text)\n",
    "correct_labels"
   ]
  },
  {
   "cell_type": "code",
   "execution_count": 179,
   "metadata": {},
   "outputs": [
    {
     "name": "stdout",
     "output_type": "stream",
     "text": [
      "/11692589 RD TUNA CANNERS, LTD. PORTION 1004, SIAR NORTH COAST ROAD, P.O.BOX 2113, MADANG, PAPUA NEW GUINEA\n",
      "\n",
      "##########\n",
      "\n",
      "''PA INTERIOR'' LTD BOLSHAYA LUBYANKA STREET, 16/4 MOSCOW, 101000, RUSSIA INN/KPP 7704550148//770801001 495-984-8611\n",
      "\n",
      "##########\n",
      "\n",
      "''SSONTEX''  Sp.ZO.O.IMPORT-EXPORTUL:PRZECLAWSKA 5 03-879 WARSZAWA,POLAND NIP 113-01-17-669\n",
      "''SSONTEX''SP.ZO.O.IMPORT-EXPORT UL:PRZECLAWSKA 5 03-879 WARSZAWA,POLAND NIP 113-01-17-669 TEL./FAX.:0048(022)217 6532--\n",
      "\"SSONTEX\" SP.ZO.O IMPORT-EXPORT 03-879 WARSZAWA UL PRZECLAWSKA 5 NIP:113-01-17-669\n",
      "\n",
      "##########\n",
      "\n",
      "''TOPEX SP. Z O.O.'' SPOLKA KOMANDYTOWA UL. POGRANICZNA 2/4  02-285 WARSZAWA POLAND\n",
      "\"TOPEX SP.Z.O.O.\"SP.K. UL.POGRANICZNA 2/4, 02-285 WARSZAWA.POLAND\n",
      "\"TOPEX SP.Z.O.O.\"SP.K. UL.POGRANICZNA 2/4,02-285 WARSZAWA POLAND\n",
      "\"TOPEX SP.Z O.O.\"SP.K. UL,POGRANICZNA 2/4 02-285 WARSZAWA\n",
      "\"TOPEX SP.Z O.O.\"SP.K. UL.POGRANICZNA 2/4,02--285 WARSZAWA\n",
      "\"TOPEX SP. Z O. O.\" SP. K. UL.POGRANICZNA 2/4,02-285 WARSZAWA,POLAND\n",
      "\"TOPEX SP.Z O.O.\"SP.K. UL.POGRANICZNA 2/4,02-285 WARSZAWA T:0048 225730397 F:0048 2257 30400\n",
      "\"TOPEX SP.Z O.O.\"SP.K. UL.POGRANICZNA 2/4 02-285 WARSZAWA POLAND\n",
      "\"TOPEX SP. Z O.O.\" SP.K. UL.POGRANICZNA 2/4 02-285 WARSZAWA POLAND\n",
      "\"TOPEX SP.Z O.O.\" SPOLKA KOMANDYTOWA UL. POGRANICZNA 2/4,02-285 WARSZAWA TEL:(+48 22) 57 30 300, FAX:(+4822 ) 57 30 400\n",
      "\"TOPEX SP.ZO.O.\"SPOLKA  KOMANDYTOWAUL.POGRANICZNA 2/4 02-285  WARSZAWA POLAND\n",
      "\"TOPEX SP.ZO.O.\" SPOLKA KOMANDYTOWAUL.POGRANICZNA 2/4  02-285 WARSZAWA POLAND\n",
      "\n",
      "##########\n",
      "\n",
      "'MASTER PLUS CO.,LTD.' 143000,RUSSIA,MO,ODINSOVO, MOJAISKOE, SHOSSE,153G TEL:+7495 7273939\n",
      "\n",
      "##########\n",
      "\n",
      "\"2TIGERS GROUP LIMITED\"  ROOM 504 JINSHAZHOU SHANGSHUI ROAD,  GUANGZHOU 510160\n",
      "\n",
      "##########\n",
      "\n",
      "\"ALDETRANS\" LLC, 105066, MOSCOW, RUSSIA, TOKMAKOV LANE, 11. TEL:+7(495)641-03-89\n",
      "\n",
      "##########\n",
      "\n",
      "\"A-LIFT\",JSC 1 PROSPEKT MARSHALA ZHUKOVA,MOSCOW 123308,RUSSIA  T: +7(495)784-7961\n",
      "\n",
      "##########\n",
      "\n",
      "\"ALISA\" LTD, 1/5 Derbenevskaya str., Moscow, Russia Tel./Fax: (495) 987-13-07 postal code: 115114\n",
      "\n",
      "##########\n",
      "\n",
      "\"ALLIANCE-TRADE\" LLC INN: 7816391055 / KPP: 784601001 190020, Saint Petersburg, quay of the Obvodny channel, 138, bulk 1, liter.B\n",
      "\n",
      "##########\n",
      "\n",
      "\"ALTAIR\" LIMITED COMPANY 199004,SAINT-PETERSBURG, 1 LINE,H.20 LIT A,OF.8-H\n",
      "\n",
      "##########\n",
      "\n",
      "\"ARIVIST\", 198035,RUSSIA,SAINT-PETERSBURG, GAPSALSKAYA STR.,5,OFFICE 1-3; TEL:+78123277732,FAX:+781 23277729.VOLOKNO@YAHOO.COM\n",
      "\"ARIVIST\", 198035,RUSSIA,SAINT-PETERSBURG, GAPSALSKAYA STR.,5,OFFICE 1-3; TEL.:+78123277732,FAX+ 78123277729.\n",
      "\"ARIVIST\", 198035,RUSSIA,SAINT-PETERSBURG,  GAPSALSKAYA STR.,5,OFFICE1-3; TEL.:+78123277732,FAX+ 78123277729.\n",
      "\"ARIVIST\", 198035,RUSSIA,SAINT-PETERSBURG,  GAPSALSKAYA STR.,5,OFFICE1-3; TEL.:+78123277732,FAX + 78123277729.\n",
      "\"ARIVIST\", 198035, RUSSIA,  SAINT-PETERSBURG,  GAPSALSKAYA STR.,5,OFFICE1-3;  TEL.+78123277732, FAX  +78123277729.\n",
      "\"ARIVIST\", 198035, RUSSIA, SAINT-PETERSBURG, GAPSALSKAYA STR.,5, OFFICE1-3; TEL.+78123277732, FAX +78123277729. VOLOKNO@YAHOO.COM\n",
      "\"ARIVIST\", 198035, RUSSIA, SAINT-PETERSBURG. GAPSALSKAYA STR.,5. OFFICE1-3; TEL.+78123277732, FAX+78123277729. VOLOKNO@YAHOO.COM\n",
      "\n",
      "##########\n",
      "\n",
      "\"AVANPORT\"  LLC INN: 7839413675 KPP: 783901001 190020, SAINT PETERSBURG, QUAY OF THE OBVODNY CHANNEL, 134-136-138, BUILD. 101, LIT. A\"\n",
      "\"AVANPORT\"  LLC INN: 7839413675 KPP: 783901001 190020, SAINT PETERSBURG, QUAY OF  THE OBVODNY CHANNEL,134-136-138,  BUILD. 101, LIT. A\"\n",
      "\n",
      "##########\n",
      "\n",
      "\"AVENTA\"LTD. ADDRESS:129 110,MOSCOW,PROSPEKT MIRA,H.52,STR.3,POM,III Tel: 8-968-808-80-11\n",
      "\n",
      "##########\n",
      "\n",
      "\"AVSON-GROUP\" COMPANY LIMITED 190008, ST. PETERSBURG,  RIMSKOGO-KORSAKOVA,  73/33, LIT. A-1\n",
      "\"Avson-group\" Company Limited  190008, St. Petersburg, Rimskogo-Korsakova, 73/33, lit. A-1\n",
      "\n",
      "##########\n",
      "\n",
      "\"BIO plus LTD\" INN 7805166210 198303, S-Petersburg, Leninskiy Pr.,110/1, lit B, app.53-H, RUSSIA\n",
      "\n",
      "##########\n",
      "\n",
      "\"CARGOIMPORT\" LTD VNUKOVSKAYA STREET, BUILDING 2, R.43-H-1, SAINT-PETERSBURG, RUSSIA .\n",
      "\n",
      "##########\n",
      "\n",
      "\"COLOS\"COMPLEX LOGISTICS,SOLUTIONSPIOTR KACZMAREK I PAWEL WILK SP.J.ZACHODNIA STREET NO 3 55-011 SIECHNICE POLAND\n",
      "\n",
      "##########\n",
      "\n",
      "\"ELECTROGROUP\" (OOO),190068.RUSSIA,SAINT-PETERSBURG,UL.BOLSHAYA PODYACHESKAYA,5,LIT.A,POM.4-N\n",
      "\"ELECTROGROUP\" (OOO),190068.RUSSIA,SAINT-PETERSBURG,UL.BOLSHAYA  PODYACHESKAYA,5,LIT.A,POM.4-N\n",
      "\n",
      "##########\n",
      "\n",
      "\"ELEKTROAPPARAT\" PLC   24th LiniyaV.O.,St.Petersburg. Sup.office No.1of Kirovsky RUSSIA TEL: 0079-219646264\n",
      "\n",
      "##########\n",
      "\n",
      "\"ENS\" LTD ADDRESS: STAROPETROVSKIYPASSAGE, BLD 7A,  CONSTRUCTION 3 125130, MOSCOW, RUSSIA TEL: (499) 130-7336\n",
      "\n",
      "##########\n",
      "\n",
      "\"EVROTRANSIT\" LLC 105005, RUSSIAN FEDERATION, MOSCOW, BAUMANSKAYA STR., 33/2, BLD.1 E-MAIL:EVROTRANZIT-LOGL@INBOX.RU TEL:8-495-665-34-68\n",
      "\n",
      "##########\n",
      "\n",
      "\"EXPRESS CO. LTD.\" RUSSIA 155101 IVANOVSKAYA REGION, LEZHNEVSKIY RAION, D. KOROVIHA, CENTRALNAYA STR. 4ARUSSIA\n",
      "\"EXPRESS CO. LTD.\"  RUSSIA 155101 IVANOVSKAYA REGION, LEZHNEVSKIY RAION, D. KOROVIHA, CENTRALNAYA STR. 4ARUSSIA\n",
      "\n",
      "##########\n",
      "\n",
      "\"FILITA\" LTD, UKRAINE, 83004, DONETSK, ARTEMA STR. 193G    TEL/FAX:+380563705563\n",
      "\n",
      "##########\n",
      "\n",
      "\"FILLOGISTIK\" PP ZHOVKIVSKA 22 STREET 79019 LVOV,UKRAINE TEL:+380322458030 FAX:+380322458030\n",
      "\n",
      "##########\n",
      "\n",
      "\"FINANS AKTIV\",LTD. 111250,RUSSIA,MOSCOW, KRASNOKAZARMENNAYA STR.11+7495 665 6001\n",
      "\n",
      "##########\n",
      "\n",
      "\"FMG SHIPPING AND FORWARDING, LTD.\"190020, SAINT PETERSBURG,LIFLYANDSKAYA STR., 6,LITERA \"A\",BUILDING 31H,OFFICE 310 POST CODE:190020 TEL:+7 812 448 82 83 FAX:+7 812 448 04 9\n",
      "1/FMG SHIPPING AND FORWARDING LTD 190020, SAINT PETERSBURG, LIFLYANDSKAYA STR., 6, LITERA \"A\", BUILDING 31??, OFFICE 310\n",
      "1/FMG SHIPPING AND FORWARDING  LTD190020, SAINT PETERSBURG, LIFLYANDSKAYA  STR., 6, LITERA \"A\", BUILDING31H, +++\n",
      "1/FMG Shipping and Forwarding Ltd 190020, Saint Petersburg, Liflyandskaya str., 6, litera \"A\", building 31H, office 310 +++\n",
      "1/FMG Shipping and Forwarding Ltd190020, Saint Petersburg,  Liflyandskaya str., 6, litera A,building 31, office 310\n",
      "1/FMG SHIPPING AND FORWARDING  LTD190020, SAINT PETERSBURG, LIFLYANDSKAYA STR., 6, LITERA A 2/<TORGOVIYSOYUZ>LENSOVETA +++\n",
      "\n",
      "##########\n",
      "\n",
      "\"FMG SHIPPING AND FORWARDING, LTD.\"190020 ST.PETERSBURG, RUSSIA BUMAZHNAYA STR., 18, OFF. 310\n",
      "1/FMG SHIPPING AND FORWARDING LTD 190020, SAINT PETERSBURG, LIFLYANDSKAYA STR., 6, LITERA \"A\",\n",
      "1/FMG SHIPPING AND FORWARDING  LTD190020, SAINT PETERSBURG, LIFLYANDSKAYA STR., 6, LITERA \"A \",+++\n",
      "\n",
      "##########\n",
      "\n",
      "\"FORWARD EXPEDITION LIMITED HKG\" SUCCES COMM.BLDG.,6B,251, HENNESSY ROAD, HONGKONG ARRIVAL@FORWARD-HKG.COM\n",
      "\n",
      "##########\n",
      "\n",
      "\"FRUITIMPEX\" LLC 121170, Moscow, Russia, Kulneva st, 3 bld. 1 INN 7737514219 KPP773001001\n",
      "\"FRUITIMPEX\" LLC TEL. (495) 926-74-49\n",
      "\n",
      "##########\n",
      "\n"
     ]
    }
   ],
   "source": [
    "correct_clusters = clusters_from_labels(text, correct_labels)\n",
    "for cluster in correct_clusters[:30]:\n",
    "    for line in cluster:\n",
    "        print(line)\n",
    "    print(\"\\n\" + \"#\"*10 + \"\\n\")"
   ]
  },
  {
   "attachments": {},
   "cell_type": "markdown",
   "metadata": {},
   "source": [
    "## Ocena jakości klasteryzacji"
   ]
  },
  {
   "attachments": {},
   "cell_type": "markdown",
   "metadata": {},
   "source": [
    "Poniższe funkcje klasteryzują tekst"
   ]
  },
  {
   "cell_type": "code",
   "execution_count": 200,
   "metadata": {},
   "outputs": [],
   "source": [
    "def test_clusterization(metric, to_cluster=text, correct_clusters=correct_clusters,  frequency=0.01):\n",
    "    clusters_no_stoplist = text_clusters(to_cluster, metric)\n",
    "    clusters_stoplist = text_clusters(to_cluster, metric, preprocess=True, frequency=frequency)\n",
    "\n",
    "    return davies_bouldin_index(clusters_no_stoplist, metric), davies_bouldin_index(clusters_stoplist, metric), davies_bouldin_index(correct_clusters, metric), dunn_index(clusters_no_stoplist, metric), dunn_index(clusters_stoplist, metric), dunn_index(correct_clusters, metric)\n",
    "    \n",
    "def test_all():\n",
    "    metrics = ['cosine_similarity', 'euclidean_distance', 'dice', 'levenshtein_distance', 'lsc']\n",
    "    davies_nostop = []\n",
    "    dunn_nostop = []\n",
    "    davies_stop = []\n",
    "    dunn_stop = []\n",
    "    davies_corr = []\n",
    "    dunn_corr = []\n",
    "    for metric in [cosine_similarity, euclidean_distance, dice, levenshtein_distance, lcs]:\n",
    "        dns, ds, dc, duns, dus, dcs = test_clusterization(metric)\n",
    "        davies_nostop.append(dns)\n",
    "        davies_stop.append(ds)\n",
    "        davies_corr.append(dc)\n",
    "        dunn_nostop.append(duns)\n",
    "        dunn_stop.append(dus)\n",
    "        dunn_corr.append(dcs)\n",
    "\n",
    "    print(\"Davies bouldin index of clusterized dataset: \")\n",
    "    df1 = DataFrame(({'metric':metrics, 'without stoplist': davies_nostop, 'with stoplist': davies_stop, 'clusters from file': davies_corr}))\n",
    "    print(df1)\n",
    "    print(\"\\n\\n\")\n",
    "    print(\"Dunn index of clusterized dataset: \")\n",
    "    df2 = DataFrame(({'metric':metrics, 'without stoplist': dunn_nostop, 'with stoplist': dunn_stop, 'clusters from file': dunn_corr}))\n",
    "    print(df2)\n"
   ]
  },
  {
   "cell_type": "code",
   "execution_count": 201,
   "metadata": {},
   "outputs": [
    {
     "name": "stdout",
     "output_type": "stream",
     "text": [
      "Davies bouldin index of clusterized dataset: \n",
      "                 metric  without stoplist  with stoplist  clusters from file\n",
      "0     cosine_similarity          0.653747       0.642862            0.878297\n",
      "1    euclidean_distance          0.709269       0.706384            0.827266\n",
      "2                  dice          0.690086       0.674226            0.834209\n",
      "3  levenshtein_distance          0.551184       0.583951            0.719534\n",
      "4                   lsc          0.632581       0.636623            0.780502\n",
      "\n",
      "\n",
      "\n",
      "Dunn index of clusterized dataset: \n",
      "                 metric  without stoplist  with stoplist  clusters from file\n",
      "0     cosine_similarity          0.058656       0.172505            0.072792\n",
      "1    euclidean_distance          0.248138       0.353653            0.282142\n",
      "2                  dice          0.069876       0.150278            0.085978\n",
      "3  levenshtein_distance          0.067418       0.154253            0.170099\n",
      "4                   lsc          0.069005       0.279603            0.175215\n"
     ]
    }
   ],
   "source": [
    "test_all()"
   ]
  },
  {
   "cell_type": "code",
   "execution_count": null,
   "metadata": {},
   "outputs": [],
   "source": []
  },
  {
   "attachments": {},
   "cell_type": "markdown",
   "metadata": {},
   "source": [
    "Indeks Daviesa osiąga mniejszą wartość dla lepszych klasteryzacji, a indeks Dunna większą wartość dla lepszych klasteryzacji.\n",
    "\n",
    "Powyższe testy pokazują niewielką różnicę w jakości klasteryzacji na korzyść metod wykorzystujących stoplistę (ja użyłem stoplisty odpowiadającej 1% najbardziej popularnych słów). W niektórych przypadkach - dla indeksu Daviesa-Bouldina metryka Levenshteina i Lcs okazują się gorsze w metodzie ze stoplistą. Sytuacja ta nie uwidacznia się w indeksie Dunna. \n",
    "\n",
    "W każdym z przypadków najgorsza jakość klasteryzacji (według indeksów) jest osiągana przez zbiór zawierający wzorcową klasteryzację. Dzieje się tak, ponieważ implementowane metryki nie przedstawiają całkowicie rzeczywistego podobieństwa tekstów. Szukane klasteryzacje są najbardziej optymalne dla zadanych metryk, tekst rzeczywisty nie jest optymalizowany pod kątem metryki.\n",
    "\n",
    "Według indeksu Daviesa-Bouldina do klasteryzacji najlepiej spisuje się odległość Levenshteina, lcs i podobieństwo cosinusowe. Indeks Dunna daje lepsze wyniki dla dystansu Euklidesowego, lcs i podobieństwa cosinusowego. Biorąc pod uwagę obydwie metody indeksacji najgorsze wyniki osiąga metryka DICE."
   ]
  },
  {
   "attachments": {},
   "cell_type": "markdown",
   "metadata": {},
   "source": [
    "## Poprawa jakości klasteryzacji\n",
    "\n",
    "6. Czy masz jakiś pomysł na poprawę jakości klasteryzacji w tym zadaniu?\n",
    "\n",
    "\n",
    "* Lepszy preprocessing danych wejściowych - w tym zadaniu preprocessing nie został wykonany w najlepszy sposób, przez co niektóre wyrazy, które powinny występować oddzielnie zostały połączone\n",
    "\n",
    "* Dobór parametrów modelu - zamiana parametrów takich jak eps może mieć wpływ na jakość klasteryzacji\n",
    "\n",
    "* Wykorzystanie innych algorytmów - różne algorytmy klasteryzacji mają różne właściwości. W tym zadaniu użyto DBSCAN. Alternatywnimi algorytmami są np K-means, Gaussian Mixture Models\n",
    "\n",
    "* Dobieranie odpowiednich metryk - metryka powinna być odpowiednio dostosowana do danych wejściowych\n",
    "\n",
    "* Użycie sieci neuronowej. Można wytrenować odpowiednio mądry model który będzie sam potrafił zrobić taki clustering bez potrzeby używania algorytmów"
   ]
  },
  {
   "cell_type": "code",
   "execution_count": null,
   "metadata": {},
   "outputs": [],
   "source": []
  }
 ],
 "metadata": {
  "kernelspec": {
   "display_name": "base",
   "language": "python",
   "name": "python3"
  },
  "language_info": {
   "codemirror_mode": {
    "name": "ipython",
    "version": 3
   },
   "file_extension": ".py",
   "mimetype": "text/x-python",
   "name": "python",
   "nbconvert_exporter": "python",
   "pygments_lexer": "ipython3",
   "version": "3.9.13"
  },
  "orig_nbformat": 4
 },
 "nbformat": 4,
 "nbformat_minor": 2
}
